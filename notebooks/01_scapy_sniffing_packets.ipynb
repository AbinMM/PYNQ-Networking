{
 "cells": [
  {
   "cell_type": "markdown",
   "metadata": {},
   "source": [
    "# `scapy`: Sniffing Network Packets\n",
    "\n",
    "`scapy` is a python package for dissecting and implementing network protocols.\n",
    "\n",
    "Full documentation can be found at: http://www.secdev.org/projects/scapy/doc/\n",
    "\n",
    "## 1. Importing `scapy`\n",
    "\n",
    "The first 2 lines of the next cell suppress warnings from the `scapy` package."
   ]
  },
  {
   "cell_type": "code",
   "execution_count": 1,
   "metadata": {
    "collapsed": true
   },
   "outputs": [],
   "source": [
    "import logging\n",
    "logging.getLogger(\"scapy.runtime\").setLevel(logging.ERROR)\n",
    "from scapy.all import *\n",
    "from pynq_networking import *"
   ]
  },
  {
   "cell_type": "markdown",
   "metadata": {},
   "source": [
    "## 2. Sniffing packets\n",
    "\n",
    "`scapy` can sniff packets off the wire and process and display them.\n",
    "\n",
    "The filter is a string in the Berkeley packet filter style: http://biot.com/capstats/bpf.html.\n",
    "\n",
    "The `nsummary()` method prints a summary of each packet,\n",
    "along with its index in the collection.\n",
    "\n",
    "The next cell will sniff packets for 2 seconds and spit out the packet trace."
   ]
  },
  {
   "cell_type": "code",
   "execution_count": 2,
   "metadata": {},
   "outputs": [
    {
     "name": "stdout",
     "output_type": "stream",
     "text": [
      "0000 Ether / IPv6 / UDP fe80::8c51:523d:b8f:15fe:60370 > ff02::1:3:hostmon / LLMNRQuery\n",
      "0001 Ether / IP / UDP 172.19.72.97:60370 > 224.0.0.252:hostmon / LLMNRQuery\n",
      "0002 Ether / IP / UDP 172.19.72.2:59422 > 255.255.255.255:9535 / Raw\n",
      "0003 Ether / IP / UDP 172.19.72.97:netbios_ns > 172.19.75.255:netbios_ns / NBNSQueryRequest\n",
      "0004 Ether / IP / UDP 172.19.73.48:netbios_ns > 172.19.75.255:netbios_ns / NBNSQueryRequest\n",
      "0005 Ether / ARP who has 172.19.2.221 says 172.19.3.128 / Padding\n",
      "0006 Ether / ARP who has 172.19.3.254 says 172.19.3.128 / Padding\n",
      "0007 Ether / IP / UDP 172.19.72.178:netbios_ns > 172.19.75.255:netbios_ns / NBNSQueryRequest\n",
      "0008 Ether / ARP who has 172.19.73.108 says 172.19.73.62 / Padding\n",
      "0009 Ether / ARP is at 00:18:3e:02:48:9c says 172.19.73.108\n",
      "0010 Ether / IPv6 / UDP fe80::1421:ec68:4a47:c88e:54149 > ff02::1:3:hostmon / LLMNRQuery\n",
      "0011 Ether / IP / UDP 172.19.73.240:54149 > 224.0.0.252:hostmon / LLMNRQuery\n",
      "0012 Ether / IP / UDP 172.19.72.40:netbios_ns > 172.19.75.255:netbios_ns / NBNSQueryRequest\n",
      "0013 Ether / IP / UDP 172.19.72.40:netbios_ns > 172.19.75.255:netbios_ns / NBNSQueryRequest\n",
      "0014 Ether / IP / UDP 172.19.72.40:netbios_ns > 172.19.75.255:netbios_ns / NBNSQueryRequest\n",
      "0015 Ether / IP / UDP 172.19.72.147:62163 > 255.255.255.255:9535 / Raw\n",
      "0016 Ether / IP / UDP 172.19.72.249:netbios_ns > 172.19.75.255:netbios_ns / NBNSQueryRequest\n",
      "0017 Ether / IPv6 / UDP fe80::8c51:523d:b8f:15fe:60370 > ff02::1:3:hostmon / LLMNRQuery\n",
      "0018 Ether / IP / UDP 172.19.72.97:60370 > 224.0.0.252:hostmon / LLMNRQuery\n",
      "0019 Ether / IP / UDP 172.19.73.72:54915 > 172.19.75.255:54915 / Raw\n",
      "0020 Ether / ARP who has 172.19.75.254 says 172.19.72.66 / Padding\n",
      "0021 Ether / IP / UDP 172.19.73.240:netbios_ns > 172.19.75.255:netbios_ns / NBNSQueryRequest\n",
      "0022 Ether / ARP who has 172.19.75.254 says 172.19.73.74 / Padding\n",
      "0023 Ether / ARP who has 172.19.79.254 says 172.19.76.31 / Padding\n",
      "0024 Ether / IP / UDP 172.19.72.56:54915 > 172.19.75.255:54915 / Raw\n",
      "0025 Ether / IP / UDP 172.19.72.40:mdns > 224.0.0.251:mdns / Raw\n",
      "0026 Ether / IPv6 / UDP fe80::44c4:ec47:be0:a8d1:mdns > ff02::fb:mdns / Raw\n",
      "0027 Ether / IP / UDP 172.19.72.40:mdns > 224.0.0.251:mdns / Raw\n",
      "0028 Ether / IPv6 / UDP fe80::44c4:ec47:be0:a8d1:mdns > ff02::fb:mdns / Raw\n",
      "0029 Ether / IP / UDP 172.19.72.97:netbios_ns > 172.19.75.255:netbios_ns / NBNSQueryRequest\n",
      "0030 Ether / IP / UDP 172.19.72.50:52113 > 255.255.255.255:9535 / Raw\n",
      "0031 Ether / IP / UDP 172.19.72.167:52491 > 255.255.255.255:9535 / Raw\n",
      "0032 Ether / ARP who has 172.19.73.152 says 172.19.73.58 / Padding\n",
      "0033 Ether / IP / UDP 172.19.72.178:netbios_ns > 172.19.75.255:netbios_ns / NBNSQueryRequest\n",
      "0034 Ether / ARP who has 172.19.3.254 says 172.19.3.129 / Padding\n",
      "0035 Ether / ARP who has 172.19.75.254 says 172.19.73.56 / Padding\n",
      "0036 Ether / IPv6 / UDP fe80::b9f0:a19e:6485:2d12:53309 > ff02::1:3:hostmon / LLMNRQuery\n",
      "0037 Ether / IP / UDP 172.19.73.56:62012 > 224.0.0.252:hostmon / LLMNRQuery\n",
      "0038 Ether / IP / UDP 172.19.72.254:netbios_dgm > 172.19.75.255:netbios_dgm / NBTDatagram / Raw\n",
      "0039 Ether / IP / UDP 172.19.72.249:netbios_ns > 172.19.75.255:netbios_ns / NBNSQueryRequest\n",
      "0040 Ether / ARP who has 172.19.74.145 says 172.19.75.254 / Padding\n",
      "0041 Ether / ARP who has 172.19.72.246 says 172.19.72.213 / Padding\n",
      "0042 Ether / IPv6 / UDP fe80::262:ecff:fe8d:d533:49447 > ff05::c:1900 / Raw\n",
      "0043 Ether / IP / UDP 172.19.73.183:51194 > 255.255.255.255:9535 / Raw\n",
      "0044 Ether / IPv6 / UDP fe80::b9f0:a19e:6485:2d12:53309 > ff02::1:3:hostmon / LLMNRQuery\n",
      "0045 Ether / IP / UDP 172.19.73.56:62012 > 224.0.0.252:hostmon / LLMNRQuery\n",
      "0046 Ether / ARP who has 172.19.2.221 says 172.19.3.128 / Padding\n",
      "0047 Ether / ARP who has 172.19.3.254 says 172.19.3.128 / Padding\n",
      "0048 Ether / IPv6 / UDP fe80::262:ecff:fe8d:d533:49447 > ff05::c:1900 / Raw\n",
      "0049 Ether / IP / UDP 172.19.72.55:56668 > 255.255.255.255:9535 / Raw\n",
      "0050 Ether / IPv6 / UDP fe80::ec4:7aff:fedc:d00d:dhcpv6_client > ff02::1:2:dhcpv6_server / DHCP6_InfoRequest / DHCP6OptClientId / DHCP6OptElapsedTime / DHCP6OptOptReq\n",
      "0051 Ether / IP / UDP 172.19.72.223:50773 > 172.19.75.255:1534 / Raw / Padding\n",
      "0052 Ether / IPv6 / UDP fe80::a186:b026:981d:691a:49967 > ff02::1:3:hostmon / LLMNRQuery\n",
      "0053 Ether / IP / UDP 172.19.73.62:50242 > 224.0.0.252:hostmon / LLMNRQuery\n",
      "0054 Ether / IP / UDP 172.19.72.98:33306 > 255.255.255.255:10001 / Raw\n",
      "0055 Ether / IP / UDP 172.19.72.98:34357 > 255.255.255.255:10001 / Raw\n",
      "0056 Ether / IPv6 / UDP fe80::262:ecff:fe8d:d533:49447 > ff02::c:1900 / Raw\n",
      "0057 Ether / IP / UDP 172.19.72.114:64831 > 255.255.255.255:9535 / Raw\n",
      "0058 Ether / ARP who has 172.19.72.122 says 172.19.73.183 / Padding\n",
      "0059 Ether / IP / UDP 172.19.74.8:41105 > 172.19.75.255:1534 / Raw / Padding\n",
      "0060 Ether / IPv6 / UDP fe80::a186:b026:981d:691a:49967 > ff02::1:3:hostmon / LLMNRQuery\n",
      "0061 Ether / IP / UDP 172.19.73.62:50242 > 224.0.0.252:hostmon / LLMNRQuery\n",
      "0062 Ether / IP / UDP 172.19.72.249:netbios_ns > 172.19.75.255:netbios_ns / NBNSQueryRequest\n",
      "0063 Ether / IPv6 / UDP fe80::262:ecff:fe8d:d533:49447 > ff02::c:1900 / Raw\n",
      "0064 Ether / IP / UDP 172.19.73.240:netbios_ns > 172.19.75.255:netbios_ns / NBNSQueryRequest\n",
      "0065 Ether / IP / UDP 172.19.72.221:63550 > 255.255.255.255:9535 / Raw\n",
      "0066 Ether / ARP who has 172.19.75.254 says 172.19.73.165 / Padding\n",
      "0067 Ether / ARP who has 172.19.74.59 says 172.19.75.254 / Padding\n",
      "0068 Ether / ARP who has 172.19.74.64 says 172.19.75.254 / Padding\n",
      "0069 Ether / ARP who has 172.19.75.14 says 172.19.75.254 / Padding\n",
      "0070 Ether / ARP who has 172.19.75.166 says 172.19.75.254 / Padding\n",
      "0071 Ether / ARP who has 172.19.74.154 says 172.19.75.254 / Padding\n",
      "0072 Ether / IP / UDP 172.19.73.72:54915 > 172.19.75.255:54915 / Raw\n",
      "0073 Ether / IP / UDP 172.19.74.142:1534 > 172.19.75.255:1534 / Raw\n",
      "0074 Ether / ARP who has 172.19.73.249 says 172.19.72.114 / Padding\n",
      "0075 Ether / IP / UDP 172.19.73.62:netbios_ns > 172.19.73.108:netbios_ns / NBNSQueryRequest\n",
      "0076 Ether / IP / UDP 172.19.73.108:netbios_ns > 172.19.73.62:netbios_ns / NBNSQueryRequest / Raw\n",
      "0077 Ether / IP / UDP 172.19.165.187:netbios_ns > 172.19.73.108:netbios_ns / NBNSQueryRequest\n",
      "0078 Ether / IP / UDP 172.19.73.108:netbios_ns > 172.19.165.187:netbios_ns / NBNSQueryRequest / Raw\n",
      "0079 Ether / IP / UDP 172.19.72.97:netbios_ns > 172.19.75.255:netbios_ns / NBNSQueryRequest\n",
      "0080 Ether / IP / UDP 172.19.73.216:58276 > 172.19.75.255:1534 / Raw / Padding\n",
      "0081 Ether / IP / UDP 172.19.73.216:1534 > 172.19.75.255:1534 / Raw\n",
      "0082 Ether / IP / UDP 172.19.72.56:54915 > 172.19.75.255:54915 / Raw\n",
      "0083 Ether / ARP who has 172.19.72.246 says 172.19.72.213 / Padding\n",
      "0084 Ether / IP / UDP 172.19.72.40:mdns > 224.0.0.251:mdns / Raw\n",
      "0085 Ether / IPv6 / UDP fe80::44c4:ec47:be0:a8d1:mdns > ff02::fb:mdns / Raw\n"
     ]
    }
   ],
   "source": [
    "import signal, time\n",
    "\n",
    "def time_out(signum, frame):\n",
    "    raise KeyboardInterrupt\n",
    "\n",
    "signal.signal(signal.SIGALRM, time_out)\n",
    "signal.alarm(2)\n",
    "\n",
    "try:\n",
    "    pkt_trace = sniff(iface=\"br0\", filter=\"udp or arp\")\n",
    "except KeyboardInterrupt:\n",
    "    pass\n",
    "pkt_trace.nsummary()"
   ]
  },
  {
   "cell_type": "markdown",
   "metadata": {},
   "source": [
    "If you execute the previous code on a busy network, you'll probably see lots of packets which are not MQTTSN packets.\n",
    "The following code separates the MQTTSN packets from the other 'uninteresting' packets.\n",
    "In this code x[MQTTSN] returns the first MQTTSN header and the `.payload` field returns the rest of the packet, \n",
    "which depends on the particular type of MQTTSN packet.\n",
    "In this case, if you managed to sniff some MQTTSN packets, you might see something like:\n",
    "\n",
    "```\n",
    "<MQTTSN_CONNECT  dup=0 qos=0 retain=0 will=0 clean=1 topicIDtype=0 protocol=1 duration=30 client='client-temp' |>,\n",
    "<MQTTSN_CONNACK  returnCode=0 |>,\n",
    " ```\n",
    " \n",
    "These packets represent a connect request followed by an acknowledgment."
   ]
  },
  {
   "cell_type": "markdown",
   "metadata": {},
   "source": [
    "We can also do various kinds of analysis on the captured packets, as shown below."
   ]
  },
  {
   "cell_type": "code",
   "execution_count": 3,
   "metadata": {},
   "outputs": [
    {
     "data": {
      "image/png": "[encoded data removed]",
      "text/plain": [
       "<matplotlib.figure.Figure at 0x2faf8770>"
      ]
     },
     "metadata": {},
     "output_type": "display_data"
    }
   ],
   "source": [
    "import matplotlib.pyplot as plt\n",
    "from collections import Counter\n",
    "types = [\"ARP\" if ARP in x else \n",
    "         \"MQTTSN\" if MQTTSN in x else\n",
    "         \"IPV6_UDP\" if ((UDP in x) and (IPv6 in x)) else\n",
    "         \"UDP\" if (UDP in x) else\n",
    "         \"IPV6_TCP\" if ((TCP in x) and (IPv6 in x)) else\n",
    "         \"TCP\" if (TCP in x) else\n",
    "         \"Unknown\" for x in pkt_trace]\n",
    "counts = Counter(types)\n",
    "frequencies = counts.values()\n",
    "names = counts.keys()\n",
    "centers = range(len(counts))\n",
    "plt.bar(centers, frequencies, align='center', tick_label=names)\n",
    "plt.title(\"Histogram of received packet types\")\n",
    "plt.show()"
   ]
  },
  {
   "cell_type": "code",
   "execution_count": 4,
   "metadata": {},
   "outputs": [
    {
     "data": {
      "image/png": "[encoded data removed]",
      "text/plain": [
       "<matplotlib.figure.Figure at 0x2d384f90>"
      ]
     },
     "metadata": {},
     "output_type": "display_data"
    }
   ],
   "source": [
    "import matplotlib.pyplot as plt\n",
    "if len(pkt_trace) == 0:\n",
    "    print(\"No Data!\")\n",
    "else:\n",
    "    first = pkt_trace[0].time\n",
    "    times = [pkt.time - pkt_trace[0].time for pkt in pkt_trace]\n",
    "    plt.hist(times, bins=64)\n",
    "    plt.title(\"Arrival rate of packets over time\")\n",
    "    plt.xlabel('time (s)')\n",
    "    plt.ylabel('number of packets')\n",
    "    plt.show()"
   ]
  },
  {
   "cell_type": "markdown",
   "metadata": {},
   "source": [
    "## 3. Sniffing in the background\n",
    "Now let us write a script `sniff.py` to be running in the background. \n",
    "This script will collect 100 UDP packets silently, and dump the packet\n",
    "trace into a log file `packet.log`."
   ]
  },
  {
   "cell_type": "code",
   "execution_count": 5,
   "metadata": {},
   "outputs": [
    {
     "data": {
      "text/plain": [
       "0"
      ]
     },
     "execution_count": 5,
     "metadata": {},
     "output_type": "execute_result"
    }
   ],
   "source": [
    "num_packets = 100\n",
    "\n",
    "with open('sniff.py', 'w') as file:\n",
    "    file.write(\n",
    "        'import logging\\n')\n",
    "    file.write(\n",
    "        'logging.getLogger(\"scapy.runtime\").setLevel(logging.ERROR)\\n')\n",
    "    file.write(\n",
    "        'from scapy.all import *\\n')\n",
    "    file.write(\n",
    "        'sniffer = sniff(iface=\"br0\", filter=f\"udp\", \\n')\n",
    "    file.write(\n",
    "        '                count={})\\n'.format(num_packets))\n",
    "    file.write(\n",
    "        'print(sniffer.nsummary())\\n')\n",
    "\n",
    "os.system(\"chmod 777 sniff.py\")\n",
    "os.system(\"python3.6 sniff.py >packet.log&\")"
   ]
  },
  {
   "cell_type": "markdown",
   "metadata": {},
   "source": [
    "It may take some time for the background sniffing process to complete. \n",
    "\n",
    "Use the following command line to check whether the process \n",
    "has completed:\n",
    "```\n",
    "ps -aux | grep 'sniff.py'\n",
    "```\n",
    "\n",
    "After it is done, users can check the contents in `packet.log`.\n",
    "\n",
    "Finally, remove all the generated files."
   ]
  },
  {
   "cell_type": "code",
   "execution_count": 6,
   "metadata": {},
   "outputs": [
    {
     "data": {
      "text/plain": [
       "0"
      ]
     },
     "execution_count": 6,
     "metadata": {},
     "output_type": "execute_result"
    }
   ],
   "source": [
    "os.system(\"rm -rf sniff.py packet.log\")"
   ]
  }
 ],
 "metadata": {
  "kernelspec": {
   "display_name": "Python 3",
   "language": "python",
   "name": "python3"
  },
  "language_info": {
   "codemirror_mode": {
    "name": "ipython",
    "version": 3
   },
   "file_extension": ".py",
   "mimetype": "text/x-python",
   "name": "python",
   "nbconvert_exporter": "python",
   "pygments_lexer": "ipython3",
   "version": "3.6.0"
  }
 },
 "nbformat": 4,
 "nbformat_minor": 1
}
