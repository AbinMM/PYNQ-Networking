{
 "cells": [
  {
   "cell_type": "markdown",
   "metadata": {},
   "source": [
    "# `scapy`: Sniffing Network Packets\n",
    "\n",
    "`scapy` is a python package for dissecting and implementing network protocols.\n",
    "\n",
    "Full documentation can be found at: http://www.secdev.org/projects/scapy/doc/\n",
    "\n",
    "## 1. Importing `scapy`\n",
    "\n",
    "The first 2 lines of the next cell suppress warnings from the `scapy` package."
   ]
  },
  {
   "cell_type": "code",
   "execution_count": 4,
   "metadata": {
    "collapsed": true
   },
   "outputs": [],
   "source": [
    "import logging\n",
    "logging.getLogger(\"scapy.runtime\").setLevel(logging.ERROR)\n",
    "from scapy.all import *\n",
    "# Get the scapy definitions for MQTT and MQTTSN\n",
    "from pynq_networking import *\n"
   ]
  },
  {
   "cell_type": "markdown",
   "metadata": {},
   "source": [
    "## 2. Sniffing packets\n",
    "\n",
    "`scapy` can sniff packets off the wire and process and display them.\n",
    "\n",
    "The filter is a string in the Berkeley packet filter style: http://biot.com/capstats/bpf.html.\n",
    "\n",
    "The `nsummary()` method prints a summary of each packet,\n",
    "along with its index in the collection.\n",
    "\n",
    "The next cell will sniff packets for 2 seconds and spit out the packet trace."
   ]
  },
  {
   "cell_type": "code",
   "execution_count": 5,
   "metadata": {},
   "outputs": [
    {
     "name": "stdout",
     "output_type": "stream",
     "text": [
      "0000 Ether / IP / UDP 172.19.73.248:54915 > 172.19.75.255:54915 / Raw\n",
      "0001 Ether / IP / UDP 172.19.73.127:64542 > 255.255.255.255:9535 / Raw\n",
      "0002 Ether / IP / UDP 172.19.73.63:1534 > 172.19.75.255:1534 / Raw / Padding\n",
      "0003 Ether / IP / UDP 172.19.73.97:netbios_ns > 172.19.75.255:netbios_ns / NBNSQueryRequest\n",
      "0004 Ether / IP / UDP 172.19.73.49:54915 > 172.19.75.255:54915 / Raw\n",
      "0005 Ether / IP / UDP 172.19.72.99:54027 > 255.255.255.255:9535 / Raw\n",
      "0006 Ether / IP / UDP 172.19.72.60:58506 > 255.255.255.255:9535 / Raw\n",
      "0007 Ether / ARP who has 172.19.3.254 says 172.19.3.129 / Padding\n",
      "0008 Ether / IP / UDP 172.19.73.97:netbios_ns > 172.19.75.255:netbios_ns / NBNSQueryRequest\n",
      "0009 Ether / IP / UDP 172.19.72.162:58268 > 255.255.255.255:9535 / Raw\n",
      "0010 Ether / ARP who has 172.19.72.22 says 172.19.72.99 / Padding\n",
      "0011 Ether / IP / UDP 172.19.72.56:54915 > 172.19.75.255:54915 / Raw\n",
      "0012 Ether / ARP who has 172.19.72.17 says 172.19.72.60 / Padding\n",
      "0013 Ether / IPv6 / UDP fe80::9e1c:12ff:fec2:61c6:dhcpv6_client > ff02::1:2:dhcpv6_server / DHCP6_Solicit / DHCP6OptClientId / DHCP6OptOptReq / DHCP6OptElapsedTime / DHCP6OptIA_NA\n",
      "0014 Ether / ARP who has 172.19.73.225 says 172.19.72.162 / Padding\n",
      "0015 Ether / ARP who has 172.19.73.59 says 172.19.72.8 / Padding\n",
      "0016 Ether / ARP who has 169.254.73.89 says 172.19.73.220 / Padding\n",
      "0017 Ether / ARP who has 172.19.3.254 says 172.19.3.128 / Padding\n",
      "0018 Ether / ARP who has 172.19.2.221 says 172.19.3.128 / Padding\n",
      "0019 Ether / IP / UDP 172.19.72.77:netbios_ns > 172.19.75.255:netbios_ns / NBNSQueryRequest\n",
      "0020 Ether / IP / UDP 172.19.73.97:netbios_ns > 172.19.75.255:netbios_ns / NBNSQueryRequest\n",
      "0021 Ether / IP / UDP 172.19.74.235:1534 > 172.19.75.255:1534 / Raw / Padding\n",
      "0022 Ether / IP / UDP 172.19.72.77:netbios_ns > 172.19.75.255:netbios_ns / NBNSQueryRequest\n",
      "0023 Ether / IP / UDP 172.19.72.77:netbios_ns > 172.19.75.255:netbios_ns / NBNSQueryRequest\n",
      "0024 Ether / IP / UDP 172.19.72.77:netbios_ns > 172.19.75.255:netbios_ns / NBNSQueryRequest\n",
      "0025 Ether / IPv6 / UDP fe80::262:ecff:fe8d:e2b4:54505 > ff05::c:1900 / Raw\n",
      "0026 Ether / ARP who has 172.19.72.223 says 172.19.73.95 / Padding\n",
      "0027 Ether / ARP who has 172.19.73.95 says 172.19.72.223 / Padding\n",
      "0028 Ether / IP / UDP 172.19.73.65:50552 > 172.19.75.255:1534 / Raw / Padding\n",
      "0029 Ether / ARP who has 172.19.72.158 says 172.19.74.159 / Padding\n",
      "0030 Ether / IPv6 / UDP fe80::262:ecff:fe8d:e2b4:54505 > ff05::c:1900 / Raw\n",
      "0031 Ether / IP / UDP 172.19.73.97:netbios_ns > 172.19.75.255:netbios_ns / NBNSQueryRequest\n",
      "0032 Ether / IP / UDP 172.19.72.100:54739 > 255.255.255.255:9535 / Raw\n",
      "0033 Ether / IP / UDP 172.19.73.65:1534 > 172.19.75.255:1534 / Raw / Padding\n",
      "0034 Ether / IP / UDP 172.19.73.176:mdns > 224.0.0.251:mdns / Raw\n",
      "0035 Ether / IPv6 / UDP fe80::a1cb:d76a:4443:aa88:mdns > ff02::fb:mdns / Raw\n",
      "0036 Ether / IP / UDP 172.19.73.176:mdns > 224.0.0.251:mdns / Raw\n",
      "0037 Ether / IPv6 / UDP fe80::a1cb:d76a:4443:aa88:mdns > ff02::fb:mdns / Raw\n",
      "0038 Ether / IPv6 / UDP fe80::262:ecff:fe8d:e2b4:54505 > ff02::c:1900 / Raw\n",
      "0039 Ether / IP / UDP 172.19.73.248:54915 > 172.19.75.255:54915 / Raw\n",
      "0040 Ether / IPv6 / UDP fe80::9e1c:12ff:fec2:61c6:dhcpv6_client > ff02::1:2:dhcpv6_server / DHCP6_Solicit / DHCP6OptClientId / DHCP6OptOptReq / DHCP6OptElapsedTime / DHCP6OptIA_NA\n",
      "0041 Ether / ARP who has 172.19.72.36 says 172.19.72.122 / Padding\n",
      "0042 Ether / IP / UDP 172.19.72.77:netbios_ns > 172.19.75.255:netbios_ns / NBNSQueryRequest\n",
      "0043 Ether / IP / UDP 172.19.72.77:netbios_ns > 172.19.75.255:netbios_ns / NBNSQueryRequest\n",
      "0044 Ether / IP / UDP 172.19.72.77:netbios_ns > 172.19.75.255:netbios_ns / NBNSQueryRequest\n",
      "0045 Ether / IPv6 / UDP fe80::262:ecff:fe8d:e2b4:54505 > ff02::c:1900 / Raw\n",
      "0046 Ether / IP / UDP 172.19.73.49:54915 > 172.19.75.255:54915 / Raw\n",
      "0047 Ether / IPv6 / UDP fe80::35da:471f:5d30:e5ea:57632 > ff02::1:3:hostmon / LLMNRQuery\n",
      "0048 Ether / IP / UDP 172.19.73.97:58119 > 224.0.0.252:hostmon / LLMNRQuery\n",
      "0049 Ether / IP / UDP 172.19.73.45:1025 > 255.255.255.255:1037 / Raw\n",
      "0050 Ether / ARP who has 172.19.75.254 says 172.19.73.253 / Padding\n",
      "0051 Ether / ARP who has 172.19.74.145 says 172.19.75.254 / Padding\n",
      "0052 Ether / IPv6 / UDP fe80::35da:471f:5d30:e5ea:57632 > ff02::1:3:hostmon / LLMNRQuery\n",
      "0053 Ether / IP / UDP 172.19.73.97:58119 > 224.0.0.252:hostmon / LLMNRQuery\n",
      "0054 Ether / IP / UDP 172.19.73.70:58732 > 255.255.255.255:9535 / Raw\n",
      "0055 Ether / ARP who has 172.19.3.254 says 172.19.3.129 / Padding\n",
      "0056 Ether / IP / UDP 172.19.73.45:17500 > 255.255.255.255:17500 / Raw\n",
      "0057 Ether / IP / UDP 172.19.73.45:17500 > 255.255.255.255:17500 / Raw\n",
      "0058 Ether / IP / UDP 172.19.73.45:17500 > 172.19.75.255:17500 / Raw\n",
      "0059 Ether / IP / UDP 172.19.72.77:netbios_ns > 172.19.75.255:netbios_ns / NBNSQueryRequest\n",
      "0060 Ether / IP / UDP 172.19.72.223:50773 > 172.19.75.255:1534 / Raw / Padding\n",
      "0061 Ether / IPv6 / UDP fe80::35da:471f:5d30:e5ea:56972 > ff02::1:3:hostmon / LLMNRQuery\n",
      "0062 Ether / IP / UDP 172.19.73.97:55656 > 224.0.0.252:hostmon / LLMNRQuery\n",
      "0063 Ether / IP / UDP 172.19.73.97:netbios_ns > 172.19.75.255:netbios_ns / NBNSQueryRequest\n",
      "0064 Ether / IPv6 / UDP fe80::35da:471f:5d30:e5ea:56972 > ff02::1:3:hostmon / LLMNRQuery\n",
      "0065 Ether / IP / UDP 172.19.73.97:55656 > 224.0.0.252:hostmon / LLMNRQuery\n",
      "0066 Ether / IP / UDP 172.19.72.77:netbios_ns > 172.19.75.255:netbios_ns / NBNSQueryRequest\n",
      "0067 Ether / IP / UDP 172.19.72.77:netbios_ns > 172.19.75.255:netbios_ns / NBNSQueryRequest\n",
      "0068 Ether / IP / UDP 172.19.72.77:netbios_ns > 172.19.75.255:netbios_ns / NBNSQueryRequest\n",
      "0069 Ether / IP / UDP 172.19.73.97:netbios_ns > 172.19.75.255:netbios_ns / NBNSQueryRequest\n",
      "0070 Ether / ARP who has 172.19.73.142 says 172.19.72.187 / Padding\n",
      "0071 Ether / IP / UDP 172.19.72.56:54915 > 172.19.75.255:54915 / Raw\n",
      "0072 Ether / IP / UDP 172.19.73.32:37698 > 255.255.255.255:10001 / Raw\n",
      "0073 Ether / IP / UDP 172.19.73.32:37821 > 255.255.255.255:10001 / Raw\n",
      "0074 Ether / IP / UDP 172.19.72.98:45400 > 255.255.255.255:10001 / Raw\n",
      "0075 Ether / IP / UDP 172.19.72.98:54981 > 255.255.255.255:10001 / Raw\n",
      "0076 Ether / IP / UDP 172.19.73.109:52526 > 255.255.255.255:9535 / Raw\n",
      "0077 Ether / IP / UDP 172.19.73.97:netbios_ns > 172.19.75.255:netbios_ns / NBNSQueryRequest\n",
      "0078 Ether / IP / UDP 172.19.73.97:netbios_ns > 172.19.75.255:netbios_ns / NBNSQueryRequest\n"
     ]
    }
   ],
   "source": [
    "import signal, time\n",
    "\n",
    "def time_out(signum, frame):\n",
    "    raise KeyboardInterrupt\n",
    "\n",
    "signal.signal(signal.SIGALRM, time_out)\n",
    "signal.alarm(2)\n",
    "\n",
    "try:\n",
    "    pkt_trace = sniff(iface=\"br0\", filter=\"udp or arp\")\n",
    "except KeyboardInterrupt:\n",
    "    pass\n",
    "pkt_trace.nsummary()"
   ]
  },
  {
   "cell_type": "markdown",
   "metadata": {},
   "source": [
    "If you execute the previous code on a busy network, you'll probably see lots of packets which are not MQTTSN packets.\n",
    "The following code separates the MQTTSN packets from the other 'uninteresting' packets.\n",
    "In this code x[MQTTSN] returns the first MQTTSN header and the `.payload` field returns the rest of the packet, \n",
    "which depends on the particular type of MQTTSN packet.\n",
    "In this case, if you managed to sniff some MQTTSN packets, you might see something like:\n",
    "\n",
    "```\n",
    "<MQTTSN_CONNECT  dup=0 qos=0 retain=0 will=0 clean=1 topicIDtype=0 protocol=1 duration=30 client='client-temp' |>,\n",
    "<MQTTSN_CONNACK  returnCode=0 |>,\n",
    " ```\n",
    " \n",
    "These packets represent a connect request followed by an acknowledgment."
   ]
  },
  {
   "cell_type": "markdown",
   "metadata": {},
   "source": [
    "We can also do various kinds of analysis on the captured packets, as shown below."
   ]
  },
  {
   "cell_type": "code",
   "execution_count": 7,
   "metadata": {},
   "outputs": [
    {
     "data": {
      "image/png": "[encoded data removed]",
      "text/plain": [
       "<matplotlib.figure.Figure at 0x2fb3ecf0>"
      ]
     },
     "metadata": {},
     "output_type": "display_data"
    }
   ],
   "source": [
    "import matplotlib.pyplot as plt\n",
    "from collections import Counter\n",
    "types = [\"ARP\" if ARP in x else \n",
    "         \"MQTTSN\" if MQTTSN in x else\n",
    "         \"IPV6_UDP\" if ((UDP in x) and (IPv6 in x)) else\n",
    "         \"UDP\" if (UDP in x) else\n",
    "         \"IPV6_TCP\" if ((TCP in x) and (IPv6 in x)) else\n",
    "         \"TCP\" if (TCP in x) else\n",
    "         \"Unknown\" for x in pkt_trace]\n",
    "counts = Counter(types)\n",
    "frequencies = counts.values()\n",
    "names = counts.keys()\n",
    "centers = range(len(counts))\n",
    "plt.bar(centers, frequencies, align='center', tick_label=names)\n",
    "plt.title(\"Histogram of received packet types\")\n",
    "plt.show()"
   ]
  },
  {
   "cell_type": "code",
   "execution_count": 10,
   "metadata": {},
   "outputs": [
    {
     "data": {
      "image/png": "[encoded data removed]",
      "text/plain": [
       "<matplotlib.figure.Figure at 0x2de711d0>"
      ]
     },
     "metadata": {},
     "output_type": "display_data"
    }
   ],
   "source": [
    "import matplotlib.pyplot as plt\n",
    "if(len(pkt_trace) == 0):\n",
    "    print(\"No Data!\")\n",
    "else:\n",
    "    first = pkt_trace[0].time\n",
    "    times = [pkt.time - pkt_trace[0].time for pkt in pkt_trace]\n",
    "    plt.hist(times, bins=64)\n",
    "    plt.title(\"Arrival rate of packets over time\")\n",
    "    plt.xlabel('time (s)')\n",
    "    plt.ylabel('number of packets')\n",
    "    plt.show()\n",
    "    "
   ]
  },
  {
   "cell_type": "markdown",
   "metadata": {},
   "source": [
    "## 3. Sniffing in the background\n",
    "Now let us write a script `sniff.py` to be running in the background. \n",
    "This script will collect 100 UDP packets silently, and dump the packet\n",
    "trace into a log file `packet.log`."
   ]
  },
  {
   "cell_type": "code",
   "execution_count": 3,
   "metadata": {},
   "outputs": [
    {
     "data": {
      "text/plain": [
       "0"
      ]
     },
     "execution_count": 3,
     "metadata": {},
     "output_type": "execute_result"
    }
   ],
   "source": [
    "num_packets = 100\n",
    "\n",
    "with open('sniff.py', 'w') as file:\n",
    "    file.write(\n",
    "        'import logging\\n')\n",
    "    file.write(\n",
    "        'logging.getLogger(\"scapy.runtime\").setLevel(logging.ERROR)\\n')\n",
    "    file.write(\n",
    "        'from scapy.all import *\\n')\n",
    "    file.write(\n",
    "        'sniffer = sniff(iface=\"br0\", filter=f\"udp\", \\n')\n",
    "    file.write(\n",
    "        '                count={})\\n'.format(num_packets))\n",
    "    file.write(\n",
    "        'print(sniffer.nsummary())\\n')\n",
    "\n",
    "os.system(\"chmod 777 sniff.py\")\n",
    "os.system(\"python3.6 sniff.py >packet.log&\")"
   ]
  },
  {
   "cell_type": "markdown",
   "metadata": {},
   "source": [
    "It may take some time for the background sniffing process to complete. \n",
    "\n",
    "Use the following command line to check whether the process \n",
    "has completed:\n",
    "```\n",
    "ps -aux | grep 'sniff.py'\n",
    "```\n",
    "\n",
    "After it is done, users can check the contents in `packet.log`.\n",
    "\n",
    "Finally, remove all the generated files."
   ]
  },
  {
   "cell_type": "code",
   "execution_count": 4,
   "metadata": {},
   "outputs": [
    {
     "data": {
      "text/plain": [
       "0"
      ]
     },
     "execution_count": 4,
     "metadata": {},
     "output_type": "execute_result"
    }
   ],
   "source": [
    "os.system(\"rm -rf sniff.py packet.log\")"
   ]
  }
 ],
 "metadata": {
  "kernelspec": {
   "display_name": "Python 3",
   "language": "python",
   "name": "python3"
  },
  "language_info": {
   "codemirror_mode": {
    "name": "ipython",
    "version": 3
   },
   "file_extension": ".py",
   "mimetype": "text/x-python",
   "name": "python",
   "nbconvert_exporter": "python",
   "pygments_lexer": "ipython3",
   "version": "3.6.0"
  }
 },
 "nbformat": 4,
 "nbformat_minor": 1
}
