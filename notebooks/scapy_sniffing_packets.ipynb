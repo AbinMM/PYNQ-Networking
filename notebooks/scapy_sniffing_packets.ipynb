{
 "cells": [
  {
   "cell_type": "markdown",
   "metadata": {},
   "source": [
    "# `scapy`: Sniffing Network Packets\n",
    "\n",
    "`scapy` is a python package for dissecting and implementing network protocols.\n",
    "\n",
    "Full documentation can be found at: http://www.secdev.org/projects/scapy/doc/\n",
    "\n",
    "## 1. Importing `scapy`\n",
    "\n",
    "The first 2 lines of the next cell suppress warnings from the `scapy` package."
   ]
  },
  {
   "cell_type": "code",
   "execution_count": 1,
   "metadata": {
    "collapsed": true
   },
   "outputs": [],
   "source": [
    "import logging\n",
    "logging.getLogger(\"scapy.runtime\").setLevel(logging.ERROR)\n",
    "from scapy.all import *"
   ]
  },
  {
   "cell_type": "markdown",
   "metadata": {},
   "source": [
    "## 2. Sniffing packets\n",
    "\n",
    "`scapy` can sniff packets off the wire and process and display them.\n",
    "\n",
    "The filter is a string in the Berkeley packet filter style: http://biot.com/capstats/bpf.html.\n",
    "\n",
    "The `nsummary()` method prints a summary of each packet,\n",
    "along with its index in the collection.\n",
    "\n",
    "The next cell will sniff packets for 2 seconds and spit out the packet trace."
   ]
  },
  {
   "cell_type": "code",
   "execution_count": 2,
   "metadata": {},
   "outputs": [
    {
     "name": "stdout",
     "output_type": "stream",
     "text": [
      "0000 Ether / ARP who has 172.19.73.222 says 172.19.74.235 / Padding\n",
      "0001 Ether / IP / UDP 172.19.73.194:netbios_ns > 172.19.75.255:netbios_ns / NBNSQueryRequest\n",
      "0002 Ether / IPv6 / UDP fe80::262:ecff:fe8d:e53f:36228 > ff02::c:1900 / Raw\n",
      "0003 Ether / IP / UDP 172.19.72.146:netbios_ns > 172.19.75.255:netbios_ns / NBNSQueryRequest\n",
      "0004 Ether / IP / UDP 172.19.73.42:netbios_ns > 172.19.75.255:netbios_ns / NBNSQueryRequest\n",
      "0005 Ether / IPv6 / UDP fe80::262:ecff:fe8d:e53f:36228 > ff02::c:1900 / Raw\n",
      "0006 Ether / IP / UDP 172.19.73.42:netbios_ns > 172.19.75.255:netbios_ns / NBNSQueryRequest\n",
      "0007 Ether / IP / UDP 172.19.72.226:netbios_ns > 172.19.75.255:netbios_ns / NBNSQueryRequest\n",
      "0008 Ether / IP / UDP 172.19.72.192:54915 > 172.19.75.255:54915 / Raw\n",
      "0009 Ether / ARP who has 172.19.76.189 says 0.0.0.0 / Padding\n",
      "0010 Ether / IP / UDP 172.19.73.240:netbios_ns > 172.19.75.255:netbios_ns / NBNSQueryRequest\n",
      "0011 Ether / ARP who has 172.19.3.254 says 172.19.2.68 / Padding\n",
      "0012 Ether / IP / UDP 172.19.72.29:50552 > 255.255.255.255:9535 / Raw\n",
      "0013 Ether / IPv6 / UDP fe80::dac7:c8ff:fec1:cbba:dhcpv6_client > ff02::1:2:dhcpv6_server / DHCP6_Solicit / DHCP6OptClientId / DHCP6OptOptReq / DHCP6OptElapsedTime / DHCP6OptIA_NA\n",
      "0014 Ether / IPv6 / UDP fe80::c421:73e6:6cde:64ad:dhcpv6_client > ff02::1:2:dhcpv6_server / DHCP6_Solicit / DHCP6OptElapsedTime / DHCP6OptClientId / DHCP6OptIA_NA / DHCP6OptClientFQDN / DHCP6OptVendorClass / DHCP6OptOptReq\n",
      "0015 Ether / IP / UDP 172.19.73.248:54915 > 172.19.75.255:54915 / Raw\n",
      "0016 Ether / IP / UDP 172.19.73.216:63759 > 172.19.75.255:1534 / Raw / Padding\n",
      "0017 Ether / ARP who has 172.19.3.254 says 172.19.3.129 / Padding\n",
      "0018 Ether / IPv6 / UDP fe80::dac7:c8ff:fec1:cc06:dhcpv6_client > ff02::1:2:dhcpv6_server / DHCP6_Solicit / DHCP6OptClientId / DHCP6OptOptReq / DHCP6OptElapsedTime / DHCP6OptIA_NA\n",
      "0019 Ether / IP / UDP 172.19.73.45:1025 > 255.255.255.255:1037 / Raw\n",
      "0020 Ether / IP / UDP 172.19.72.146:62127 > 255.255.255.255:9535 / Raw\n",
      "0021 Ether / IP / UDP 172.19.72.146:netbios_ns > 172.19.75.255:netbios_ns / NBNSQueryRequest\n",
      "0022 Ether / IP / UDP 172.19.73.42:netbios_ns > 172.19.75.255:netbios_ns / NBNSQueryRequest\n",
      "0023 Ether / ARP who has 172.19.73.205 says 172.19.72.31 / Padding\n",
      "0024 Ether / IP / UDP 172.19.72.56:54915 > 172.19.75.255:54915 / Raw\n",
      "0025 Ether / IP / UDP 172.19.73.93:54915 > 172.19.75.255:54915 / Raw\n",
      "0026 Ether / IP / UDP 172.19.72.31:64327 > 255.255.255.255:9535 / Raw\n",
      "0027 Ether / IP / UDP 172.19.72.226:netbios_ns > 172.19.75.255:netbios_ns / NBNSQueryRequest\n",
      "0028 Ether / ARP who has 172.19.73.222 says 172.19.74.235 / Padding\n",
      "0029 Ether / IP / UDP 172.19.73.64:50858 > 255.255.255.255:9535 / Raw\n",
      "0030 Ether / IPv6 / UDP fe80::8855:5550:3290:4669:61934 > ff02::1:3:hostmon / LLMNRQuery\n",
      "0031 Ether / IP / UDP 172.19.73.42:61934 > 224.0.0.252:hostmon / LLMNRQuery\n",
      "0032 Ether / IP / UDP 172.19.73.241:57621 > 172.19.75.255:57621 / Raw\n",
      "0033 Ether / IP / UDP 172.19.73.240:netbios_ns > 172.19.75.255:netbios_ns / NBNSQueryRequest\n",
      "0034 Ether / ARP who has 172.19.74.59 says 172.19.75.254 / Padding\n",
      "0035 Ether / ARP who has 172.19.75.254 says 172.19.72.108 / Padding\n",
      "0036 Ether / ARP who has 172.19.74.114 says 172.19.72.31 / Padding\n",
      "0037 Ether / IP / UDP 172.19.72.74:50002 > 255.255.255.255:9535 / Raw\n",
      "0038 Ether / ARP who has 172.19.74.237 says 172.19.73.64 / Padding\n",
      "0039 Ether / IP / UDP 172.19.73.42:netbios_ns > 172.19.75.255:netbios_ns / NBNSQueryRequest\n",
      "0040 Ether / IP / UDP 172.19.72.192:54915 > 172.19.75.255:54915 / Raw\n",
      "0041 Ether / ARP who has 172.19.3.254 says 172.19.2.68 / Padding\n",
      "0042 Ether / IP / UDP 172.19.72.34:57153 > 255.255.255.255:9535 / Raw\n",
      "0043 Ether / IPv6 / UDP fe80::7cb2:74d5:bacc:b405:61768 > ff02::c:3702 / Raw\n",
      "0044 Ether / IPv6 / UDP fe80::7cb2:74d5:bacc:b405:61770 > ff02::c:3702 / Raw\n",
      "0045 Ether / IP / UDP 172.19.73.137:65214 > 255.255.255.255:9535 / Raw\n",
      "0046 Ether / IPv6 / UDP fe80::8855:5550:3290:4669:61934 > ff02::1:3:hostmon / LLMNRQuery\n",
      "0047 Ether / IP / UDP 172.19.73.42:61934 > 224.0.0.252:hostmon / LLMNRQuery\n",
      "0048 Ether / IPv6 / UDP fe80::c421:73e6:6cde:64ad:dhcpv6_client > ff02::1:2:dhcpv6_server / DHCP6_Solicit / DHCP6OptElapsedTime / DHCP6OptClientId / DHCP6OptIA_NA / DHCP6OptClientFQDN / DHCP6OptVendorClass / DHCP6OptOptReq\n",
      "0049 Ether / IP / UDP 172.19.74.175:49418 > 172.19.75.255:1534 / Raw / Padding\n",
      "0050 Ether / IP / UDP 172.19.73.248:54915 > 172.19.75.255:54915 / Raw\n",
      "0051 Ether / IP / UDP 172.19.73.45:57621 > 172.19.75.255:57621 / Raw\n",
      "0052 Ether / IP / UDP 172.19.72.146:netbios_ns > 172.19.75.255:netbios_ns / NBNSQueryRequest\n",
      "0053 Ether / IPv6 / UDP fe80::7cb2:74d5:bacc:b405:61768 > ff02::c:3702 / Raw\n",
      "0054 Ether / IPv6 / UDP fe80::7cb2:74d5:bacc:b405:61770 > ff02::c:3702 / Raw\n",
      "0055 Ether / ARP who has 172.19.3.254 says 172.19.3.129 / Padding\n"
     ]
    }
   ],
   "source": [
    "import signal, time\n",
    "\n",
    "def time_out(signum, frame):\n",
    "    raise KeyboardInterrupt\n",
    "\n",
    "signal.signal(signal.SIGALRM, time_out)\n",
    "signal.alarm(2)\n",
    "\n",
    "try:\n",
    "    pkt_trace = sniff(iface=\"br0\", filter=\"udp or arp\")\n",
    "except KeyboardInterrupt:\n",
    "    pass\n",
    "pkt_trace.nsummary()"
   ]
  },
  {
   "cell_type": "markdown",
   "metadata": {},
   "source": [
    "If you execute the previous code on a busy network, you'll probably see lots of packets which are not MQTTSN packets.\n",
    "The following code separates the MQTTSN packets from the other 'uninteresting' packets.\n",
    "In this code x[MQTTSN] returns the first MQTTSN header and the `.payload` field returns the rest of the packet, \n",
    "which depends on the particular type of MQTTSN packet.\n",
    "In this case, if you managed to sniff some MQTTSN packets, you might see something like:\n",
    "\n",
    "```\n",
    "<MQTTSN_CONNECT  dup=0 qos=0 retain=0 will=0 clean=1 topicIDtype=0 protocol=1 duration=30 client='client-temp' |>,\n",
    "<MQTTSN_CONNACK  returnCode=0 |>,\n",
    " ```\n",
    " \n",
    "These packets represent a connect request followed by an acknowledgment."
   ]
  },
  {
   "cell_type": "markdown",
   "metadata": {},
   "source": [
    "## 3. Sniffing in the background\n",
    "Now let us write a script `sniff.py` to be running in the background. \n",
    "This script will collect 100 UDP packets silently, and dump the packet\n",
    "trace into a log file `packet.log`."
   ]
  },
  {
   "cell_type": "code",
   "execution_count": 3,
   "metadata": {},
   "outputs": [
    {
     "data": {
      "text/plain": [
       "0"
      ]
     },
     "execution_count": 3,
     "metadata": {},
     "output_type": "execute_result"
    }
   ],
   "source": [
    "num_packets = 100\n",
    "\n",
    "with open('sniff.py', 'w') as file:\n",
    "    file.write(\n",
    "        'import logging\\n')\n",
    "    file.write(\n",
    "        'logging.getLogger(\"scapy.runtime\").setLevel(logging.ERROR)\\n')\n",
    "    file.write(\n",
    "        'from scapy.all import *\\n')\n",
    "    file.write(\n",
    "        'sniffer = sniff(iface=\"br0\", filter=f\"udp\", \\n')\n",
    "    file.write(\n",
    "        '                count={})\\n'.format(num_packets))\n",
    "    file.write(\n",
    "        'print(sniffer.nsummary())\\n')\n",
    "\n",
    "os.system(\"chmod 777 sniff.py\")\n",
    "os.system(\"python3.6 sniff.py >packet.log&\")"
   ]
  },
  {
   "cell_type": "markdown",
   "metadata": {},
   "source": [
    "It may take some time for the background sniffing process to complete. \n",
    "\n",
    "Use the following command line to check whether the process \n",
    "has completed:\n",
    "```\n",
    "ps -aux | grep 'sniff.py'\n",
    "```\n",
    "\n",
    "After it is done, users can check the contents in `packet.log`.\n",
    "\n",
    "Finally, remove all the generated files."
   ]
  },
  {
   "cell_type": "code",
   "execution_count": 4,
   "metadata": {},
   "outputs": [
    {
     "data": {
      "text/plain": [
       "0"
      ]
     },
     "execution_count": 4,
     "metadata": {},
     "output_type": "execute_result"
    }
   ],
   "source": [
    "os.system(\"rm -rf sniff.py packet.log\")"
   ]
  }
 ],
 "metadata": {
  "kernelspec": {
   "display_name": "Python 3",
   "language": "python",
   "name": "python3"
  },
  "language_info": {
   "codemirror_mode": {
    "name": "ipython",
    "version": 3
   },
   "file_extension": ".py",
   "mimetype": "text/x-python",
   "name": "python",
   "nbconvert_exporter": "python",
   "pygments_lexer": "ipython3",
   "version": "3.6.0"
  }
 },
 "nbformat": 4,
 "nbformat_minor": 1
}
