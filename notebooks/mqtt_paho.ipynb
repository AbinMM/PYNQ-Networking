{
 "cells": [
  {
   "cell_type": "markdown",
   "metadata": {},
   "source": [
    "# MQTT - using `paho` Package\n",
    "\n",
    "MQTT and MQTT-SN are IP protocols used to manage devices in the Internet of Things.  These protocols implement a publish and subscribe communication protocol between *clients*.  The publish and subscribe communication is managed by *brokers*.  One of the key ideas of MQTT and MQTT-SN is that brokers are relatively robust and available, while clients are often transient (for instance they might often sleep to save power).  Typically a client will publish *events* to a broker.  Each event consists of a *topic* and a *message*.   Typically the broker will relay each event to other clients who have subscribed to the same topic, although brokers may also communicate directly to relay events.  The main difference between MQTT and MQTT-SN is that MQTT is based on TCP, while MQTT-SN is based on UDP.  For more information, see http://mqtt.org/documentation.\n",
    "\n",
    "The `paho` package is a readily available MQTT client. This notebook shows\n",
    "a demo of using this package.\n",
    "\n",
    "## 1. Start MQTT broker\n",
    "\n",
    "First we need to start a MQTT broker in order for all the clients to connect."
   ]
  },
  {
   "cell_type": "code",
   "execution_count": 1,
   "metadata": {
    "collapsed": true
   },
   "outputs": [],
   "source": [
    "from broker_client.broker import Broker\n",
    "\n",
    "broker_mqtt = Broker(mqtt_port=1883, mqttsn_port=1884)"
   ]
  },
  {
   "cell_type": "markdown",
   "metadata": {},
   "source": [
    "When broker is open, users can connect to it; if there is already a broker\n",
    "running, the following method will close it before opening a new one.\n",
    "\n",
    "Users can also check the log file in `broker.log`."
   ]
  },
  {
   "cell_type": "code",
   "execution_count": 2,
   "metadata": {
    "collapsed": true
   },
   "outputs": [],
   "source": [
    "broker_mqtt.open()"
   ]
  },
  {
   "cell_type": "markdown",
   "metadata": {},
   "source": [
    "## 2. Use `paho` package to connect\n",
    "We can use this package to publish and subscribe to events."
   ]
  },
  {
   "cell_type": "code",
   "execution_count": 3,
   "metadata": {},
   "outputs": [
    {
     "data": {
      "text/plain": [
       "0"
      ]
     },
     "execution_count": 3,
     "metadata": {},
     "output_type": "execute_result"
    }
   ],
   "source": [
    "import paho.mqtt.client as mqtt\n",
    "\n",
    "client = mqtt.Client()\n",
    "client.connect(\"localhost\")"
   ]
  },
  {
   "cell_type": "markdown",
   "metadata": {},
   "source": [
    "In the `paho` API, subscribing to an event is done by registering a callback function.  We can use the callback to take an action, such as flashing the LEDs on the board.\n",
    "\n",
    "Notice that messages aren't actually processed until one of the `paho` event loop functions is called,\n",
    "e.g., `loop()` or `loop_forever()`."
   ]
  },
  {
   "cell_type": "code",
   "execution_count": 4,
   "metadata": {
    "collapsed": true
   },
   "outputs": [],
   "source": [
    "from pynq.overlays.base import BaseOverlay\n",
    "\n",
    "overlay = BaseOverlay('base.bit')\n",
    "\n",
    "leds = overlay.leds\n",
    "btns = overlay.buttons\n",
    "\n",
    "return_message=\"\"\n",
    "def on_message(client, userdata, message):\n",
    "    print(\"Received message '\" + str(message.payload) + \n",
    "          \"' on topic '\" + message.topic + \"' with QoS \" + str(message.qos))\n",
    "    for led in leds:\n",
    "        led.toggle()\n",
    "\n",
    "client.on_message=on_message"
   ]
  },
  {
   "cell_type": "markdown",
   "metadata": {},
   "source": [
    "We can subscribe to a new topic now. The function returns a tuple \n",
    "(`result`, `mid`), where result is `MQTT_ERR_SUCCESS` to indicate success \n",
    "or (`MQTT_ERR_NO_CONN`, `None`) if the client is not currently connected. \n",
    "`mid` is the message ID for the subscribe request. The `mid` value can be used \n",
    "to track the subscribe request by checking against the `mid` argument in the \n",
    "`on_subscribe()` callback if it is defined.\n",
    "\n",
    "More information can be found at: \n",
    "https://www.eclipse.org/paho/clients/python/docs/#subscribe-unsubscribe"
   ]
  },
  {
   "cell_type": "code",
   "execution_count": 5,
   "metadata": {},
   "outputs": [
    {
     "data": {
      "text/plain": [
       "(0, 1)"
      ]
     },
     "execution_count": 5,
     "metadata": {},
     "output_type": "execute_result"
    }
   ],
   "source": [
    "client.subscribe(\"button/0\")"
   ]
  },
  {
   "cell_type": "markdown",
   "metadata": {},
   "source": [
    "Publishing an event is somewhat simpler, we simply need to provide the topic and the message.\n",
    "\n",
    "The next cell continually reads the current state of the buttons and publishes some \n",
    "corresponding MQTT messages.\n",
    "In addition, regularly call the `loop()` function to process MQTT messages \n",
    "that are subscribed to.  \n",
    "\n",
    "Button values are read until button 3 is pressed.\n",
    "\n",
    "Note that the `while` loop is required to avoid `Broken pipe` error message."
   ]
  },
  {
   "cell_type": "code",
   "execution_count": 6,
   "metadata": {},
   "outputs": [
    {
     "name": "stdout",
     "output_type": "stream",
     "text": [
      "[0, 0, 0]\n"
     ]
    }
   ],
   "source": [
    "last = [btns[index].read() for index in range(3)]\n",
    "\n",
    "while (btns[3].read()==0):\n",
    "    current = [btns[index].read() for index in range(3)]\n",
    "    changed = [current[index] != last[index] for index in range(3)]\n",
    "    _ = [client.publish('button/' + str(index), str(current[index])) \n",
    "            if(changed[index]) else None for index in range(3)]\n",
    "    last = current\n",
    "    client.loop(timeout=.001)\n",
    "\n",
    "print(current)\n",
    "_ = [client.publish('button/'+str(index), \"offline\") for index in range(3)]"
   ]
  },
  {
   "cell_type": "markdown",
   "metadata": {},
   "source": [
    "Note that publishing events with MQTT can be quite fast, if we don't guarantee that the events are received by the server."
   ]
  },
  {
   "cell_type": "code",
   "execution_count": 7,
   "metadata": {},
   "outputs": [
    {
     "data": {
      "image/png": "[encoded data removed]",
      "text/plain": [
       "<matplotlib.figure.Figure at 0x2d398df0>"
      ]
     },
     "metadata": {},
     "output_type": "display_data"
    },
    {
     "name": "stdout",
     "output_type": "stream",
     "text": [
      "Average speed: 8190.972130938402 packets/second.\n"
     ]
    }
   ],
   "source": [
    "import timeit\n",
    "import matplotlib.pyplot as plt\n",
    "\n",
    "num_records = 100\n",
    "time_records = [0 for _ in range(num_records)]\n",
    "total_time = 0\n",
    "\n",
    "for i in range(num_records):\n",
    "    start_time = timeit.default_timer()\n",
    "    client.publish(\"foo\", \"bar\")\n",
    "    elapsed = timeit.default_timer() - start_time\n",
    "    time_records[i] = elapsed\n",
    "    total_time += elapsed\n",
    "\n",
    "plt.bar(range(num_records), time_records, align='center')\n",
    "plt.show()\n",
    "print(\"Average speed: \" + str(num_records/total_time)+\" packets/second.\")"
   ]
  },
  {
   "cell_type": "markdown",
   "metadata": {},
   "source": [
    "## 3. Close the broker\n",
    "\n",
    "It is always a good practice to close the broker after use. Otherwise it keeps\n",
    "running in the background."
   ]
  },
  {
   "cell_type": "code",
   "execution_count": 8,
   "metadata": {
    "collapsed": true
   },
   "outputs": [],
   "source": [
    "broker_mqtt.close()"
   ]
  }
 ],
 "metadata": {
  "kernelspec": {
   "display_name": "Python 3",
   "language": "python",
   "name": "python3"
  },
  "language_info": {
   "codemirror_mode": {
    "name": "ipython",
    "version": 3
   },
   "file_extension": ".py",
   "mimetype": "text/x-python",
   "name": "python",
   "nbconvert_exporter": "python",
   "pygments_lexer": "ipython3",
   "version": "3.6.0"
  }
 },
 "nbformat": 4,
 "nbformat_minor": 2
}
