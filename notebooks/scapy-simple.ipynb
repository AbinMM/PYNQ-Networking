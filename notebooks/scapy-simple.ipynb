{
 "cells": [
  {
   "cell_type": "markdown",
   "metadata": {},
   "source": [
    "# Scapy: Processing network packets in Python\n",
    "Scapy is a python package for dissecting and implementing network protocols.  Full documentation is here:\n",
    "http://www.secdev.org/projects/scapy/doc/"
   ]
  },
  {
   "cell_type": "code",
   "execution_count": 1,
   "metadata": {},
   "outputs": [
    {
     "name": "stderr",
     "output_type": "stream",
     "text": [
      "WARNING: No route found for IPv6 destination :: (no default route?). This affects only IPv6\n"
     ]
    }
   ],
   "source": [
    "from scapy.all import *\n",
    "# Add MQTTSN support\n",
    "exec(open(\"MQTTSN.py\").read())"
   ]
  },
  {
   "cell_type": "markdown",
   "metadata": {},
   "source": [
    "Scapy can sniff packets off the wire and process and display them.  In this case we focus only on UDP packets.  (The filter is a string in the Berkeley packet filter style: http://biot.com/capstats/bpf.html.)  The nsummary method prints a summary of each packet, along with its index in the collection."
   ]
  },
  {
   "cell_type": "code",
   "execution_count": 2,
   "metadata": {},
   "outputs": [],
   "source": [
    "a=sniff(iface=\"br0\", filter=\"udp or arp\")\n",
    "#a.nsummary()"
   ]
  },
  {
   "cell_type": "markdown",
   "metadata": {},
   "source": [
    "If you execute the previous code on a busy network, you'll probably see lots of packets which are not MQTTSN packets.  The following code separates the MQTTSN packets from the other 'uninteresting' packets.  In this code x[MQTTSN] returns the first MQTTSN header and the .payload field returns the rest of the packet, which depends on the particular type of MQTTSN packet.  In this case, if you managed to sniff some MQTTSN packets, you might see something like:\n",
    "\n",
    "```[<MQTTSN_CONNECT  dup=0 qos=0 retain=0 will=0 clean=1 topicIDtype=0 protocol=1 duration=30 client='client-temp-accelerator4' |>,\n",
    " <MQTTSN_CONNACK  returnCode=0 |>,```\n",
    " \n",
    "These packets represent a connect request followed by an acknowledgement."
   ]
  },
  {
   "cell_type": "code",
   "execution_count": 3,
   "metadata": {},
   "outputs": [
    {
     "ename": "IndexError",
     "evalue": "list index out of range",
     "output_type": "error",
     "traceback": [
      "\u001b[0;31m---------------------------------------------------------------------------\u001b[0m",
      "\u001b[0;31mIndexError\u001b[0m                                Traceback (most recent call last)",
      "\u001b[0;32m<ipython-input-3-2789cbd802ca>\u001b[0m in \u001b[0;36m<module>\u001b[0;34m()\u001b[0m\n\u001b[1;32m      1\u001b[0m \u001b[0mpackets\u001b[0m \u001b[0;34m=\u001b[0m \u001b[0;34m[\u001b[0m\u001b[0mx\u001b[0m\u001b[0;34m[\u001b[0m\u001b[0mMQTTSN\u001b[0m\u001b[0;34m]\u001b[0m\u001b[0;34m.\u001b[0m\u001b[0mpayload\u001b[0m \u001b[0;32mfor\u001b[0m \u001b[0mx\u001b[0m \u001b[0;32min\u001b[0m \u001b[0ma\u001b[0m \u001b[0;32mif\u001b[0m \u001b[0mMQTTSN\u001b[0m \u001b[0;32min\u001b[0m \u001b[0mx\u001b[0m\u001b[0;34m]\u001b[0m\u001b[0;34m\u001b[0m\u001b[0m\n\u001b[1;32m      2\u001b[0m \u001b[0mtimes\u001b[0m \u001b[0;34m=\u001b[0m \u001b[0;34m[\u001b[0m\u001b[0mx\u001b[0m\u001b[0;34m.\u001b[0m\u001b[0mtime\u001b[0m\u001b[0;34m*\u001b[0m\u001b[0;36m1000000\u001b[0m \u001b[0;32mfor\u001b[0m \u001b[0mx\u001b[0m \u001b[0;32min\u001b[0m \u001b[0ma\u001b[0m \u001b[0;32mif\u001b[0m \u001b[0mMQTTSN\u001b[0m \u001b[0;32min\u001b[0m \u001b[0mx\u001b[0m\u001b[0;34m]\u001b[0m\u001b[0;34m\u001b[0m\u001b[0m\n\u001b[0;32m----> 3\u001b[0;31m \u001b[0mstart\u001b[0m \u001b[0;34m=\u001b[0m \u001b[0mtimes\u001b[0m\u001b[0;34m[\u001b[0m\u001b[0;36m0\u001b[0m\u001b[0;34m]\u001b[0m\u001b[0;34m\u001b[0m\u001b[0m\n\u001b[0m\u001b[1;32m      4\u001b[0m \u001b[0moffsettimes\u001b[0m \u001b[0;34m=\u001b[0m \u001b[0;34m[\u001b[0m\u001b[0;34m(\u001b[0m\u001b[0mx\u001b[0m\u001b[0;34m.\u001b[0m\u001b[0mtime\u001b[0m\u001b[0;34m*\u001b[0m\u001b[0;36m1000000\u001b[0m\u001b[0;34m-\u001b[0m\u001b[0mstart\u001b[0m\u001b[0;34m)\u001b[0m \u001b[0;32mfor\u001b[0m \u001b[0mx\u001b[0m \u001b[0;32min\u001b[0m \u001b[0ma\u001b[0m \u001b[0;32mif\u001b[0m \u001b[0mMQTTSN\u001b[0m \u001b[0;32min\u001b[0m \u001b[0mx\u001b[0m\u001b[0;34m]\u001b[0m\u001b[0;34m\u001b[0m\u001b[0m\n\u001b[1;32m      5\u001b[0m \u001b[0mpackets\u001b[0m\u001b[0;34m\u001b[0m\u001b[0m\n",
      "\u001b[0;31mIndexError\u001b[0m: list index out of range"
     ]
    }
   ],
   "source": [
    "packets = [x[MQTTSN].payload for x in a if MQTTSN in x]\n",
    "times = [x.time*1000000 for x in a if MQTTSN in x]\n",
    "start = times[0]\n",
    "offsettimes = [(x.time*1000000-start) for x in a if MQTTSN in x]\n",
    "packets"
   ]
  },
  {
   "cell_type": "code",
   "execution_count": 58,
   "metadata": {},
   "outputs": [
    {
     "name": "stdout",
     "output_type": "stream",
     "text": [
      "11 values bigger than 200\n"
     ]
    },
    {
     "data": {
      "image/png": "[encoded data removed]",
      "text/plain": [
       "<matplotlib.figure.Figure at 0xabc157d0>"
      ]
     },
     "metadata": {},
     "output_type": "display_data"
    },
    {
     "data": {
      "image/png": "[encoded data removed]",
      "text/plain": [
       "<matplotlib.figure.Figure at 0xa8af9930>"
      ]
     },
     "metadata": {},
     "output_type": "display_data"
    }
   ],
   "source": [
    "%matplotlib inline\n",
    "\n",
    "import matplotlib.pyplot as plt\n",
    "import numpy as np\n",
    "\n",
    "import plotly.plotly as py\n",
    "\n",
    "def find_intervals(times):\n",
    "    intervals = []\n",
    "    lasttime = None\n",
    "    for time in times:\n",
    "        if(lasttime):\n",
    "            intervals.append(time-lasttime);\n",
    "        lasttime = time\n",
    "    return intervals\n",
    "\n",
    "maxrange = 200\n",
    "t = range(0,len(offsettimes))\n",
    "publishes = [offsettimes[i] for i in t if MQTTSN_PUBLISH in packets[i]]\n",
    "pubacks = [offsettimes[i] for i in t if MQTTSN_PUBACK in packets[i]]\n",
    "publish_intervals = find_intervals(publishes)\n",
    "puback_intervals = find_intervals(pubacks)\n",
    "\n",
    "outofrangecount = len([x for x in publish_intervals if x > maxrange])\n",
    "print(str(outofrangecount) + \" values bigger than \" + str(maxrange))\n",
    "plt.hist([publish_intervals, puback_intervals],bins=256, range = (0.0, maxrange))\n",
    "plt.title('Time between packets')\n",
    "plt.xlabel('Interval (us)')\n",
    "plt.ylabel('packet count')\n",
    "plt.legend(['Publishes','Pubacks'])\n",
    "plt.show()\n",
    "plt.xlabel('Interval (us)')\n",
    "plt.ylabel('log packet count')\n",
    "plt.legend(['Publishes','Pubacks'])\n",
    "plt.hist([publish_intervals, puback_intervals],log=True,bins=256)\n",
    "plt.show()\n",
    "\n",
    "\n"
   ]
  },
  {
   "cell_type": "code",
   "execution_count": 56,
   "metadata": {},
   "outputs": [
    {
     "data": {
      "image/png": "[encoded data removed]",
      "text/plain": [
       "<matplotlib.figure.Figure at 0xa93f4610>"
      ]
     },
     "metadata": {},
     "output_type": "display_data"
    }
   ],
   "source": [
    "import matplotlib.pyplot as plt\n",
    "import numpy as np\n",
    "\n",
    "t = range(0,len(offsettimes))\n",
    "publishes = [offsettimes[i]/1000 for i in t if MQTTSN_PUBLISH in packets[i]]\n",
    "pubacks = [offsettimes[i]/1000 for i in t if MQTTSN_PUBACK in packets[i]]\n",
    "plt.hist([publishes,pubacks],bins=64)\n",
    "plt.legend(['Publishes','Pubacks'])\n",
    "plt.title('Packet Times')\n",
    "plt.xlabel('time (ms)')\n",
    "plt.ylabel('packet count')\n",
    "plt.show()"
   ]
  },
  {
   "cell_type": "code",
   "execution_count": null,
   "metadata": {},
   "outputs": [],
   "source": [
    "[x.dst for x in a]"
   ]
  },
  {
   "cell_type": "code",
   "execution_count": null,
   "metadata": {},
   "outputs": [],
   "source": [
    "x = Ether(b'\\xff\\xff\\xff\\xff\\xff\\xff\\xf2\\x8b\\xc00w\\xa9\\x08\\x00E\\x00\\x01\\x16\\x06\\xde@\\x00@\\x11\\xae\\x95\\xc0\\xa8\\x01\\x14\\xc0\\xa8\\x01\\xff\\x05\\xfe\\x05\\xfe\\x01\\x023\\xe4TCF2\\x02\\x00\\x00\\x00ID=TCP:192.168.1.20:1534\\x00Name=TCF Agent\\x00OSName=Linux 4.6.0-xilinx-27952-g6290416\\x00UserName=root\\x00AgentID=1e822c19-0d60-4a21-97cd-9376a5e69a7a\\x00TransportName=TCP\\x00ServiceManagerID=1e822c19-0d60-4a21-97cd-9376a5e69a7a-0\\x00Port=1534\\x00Host=192.168.1.20\\x00')\n",
    "print(x.summary())\n",
    "print(\"foo\",x)\n",
    "print(x)"
   ]
  },
  {
   "cell_type": "code",
   "execution_count": null,
   "metadata": {
    "collapsed": true
   },
   "outputs": [],
   "source": []
  }
 ],
 "metadata": {
  "kernelspec": {
   "display_name": "Python 3",
   "language": "python",
   "name": "python3"
  },
  "language_info": {
   "codemirror_mode": {
    "name": "ipython",
    "version": 3
   },
   "file_extension": ".py",
   "mimetype": "text/x-python",
   "name": "python",
   "nbconvert_exporter": "python",
   "pygments_lexer": "ipython3",
   "version": "3.6.0"
  }
 },
 "nbformat": 4,
 "nbformat_minor": 1
}
