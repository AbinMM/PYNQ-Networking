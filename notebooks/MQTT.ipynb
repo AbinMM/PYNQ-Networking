{
 "cells": [
  {
   "cell_type": "markdown",
   "metadata": {
    "collapsed": true,
    "deletable": true,
    "editable": true
   },
   "source": [
    "# MQTT\n",
    "\n",
    "MQTT and MQTT-SN are IP protocols used to manage devices in the internet of things.  These protocols implement a publish and subscribe communication protocol between *clients*.  The publish and subscribe communication is managed by *brokers*.  One of the key ideas of MQTT and MQTT-SN is that brokers are relatively robust and available, while clients are often transient (for instance they might often sleep to save power).  Typically a client will publish *events* to a broker.  Each event consists of a *topic* and a *message*.   Typically the broker will relay each event to other clients who have subscribed to the same topic, although brokers may also communicate directly to relay events.  The main difference between MQTT and MQTT-SN is that MQTT is based on TCP, while MQTT-SN is based on UDP.  For more information, see http://mqtt.org/documentation."
   ]
  },
  {
   "cell_type": "markdown",
   "metadata": {
    "deletable": true,
    "editable": true
   },
   "source": [
    "Paho is a readily available MQTT client.  We can use it to publish and subscribe to events."
   ]
  },
  {
   "cell_type": "code",
   "execution_count": null,
   "metadata": {
    "collapsed": false,
    "deletable": true,
    "editable": true
   },
   "outputs": [],
   "source": [
    "# Connect the client to our local server\n",
    "import paho.mqtt.client as mqtt\n",
    "client=mqtt.Client()\n",
    "client.connect(\"localhost\")\n"
   ]
  },
  {
   "cell_type": "markdown",
   "metadata": {
    "deletable": true,
    "editable": true
   },
   "source": [
    "In the Paho API, subscribing to an event is done by registering a callback function.  We can use the callback to take an action, such as flashing the LEDs on the Pynq board."
   ]
  },
  {
   "cell_type": "code",
   "execution_count": null,
   "metadata": {
    "collapsed": false,
    "deletable": true,
    "editable": true
   },
   "outputs": [],
   "source": [
    "# Notice that messages aren't actually processed until one of the paho event loop functions is called\n",
    "# e.g. loop() or loop_forever()\n",
    "from pynq.board import LED\n",
    "\n",
    "leds = [LED(index) for index in range(4)]\n",
    "\n",
    "return_message=\"\"\n",
    "def on_message(client, userdata, message):\n",
    "    print(\"Received message '\" + str(message.payload) + \"' on topic '\" + message.topic + \"' with QoS \" + str(message.qos))\n",
    "    for led in leds:\n",
    "        led.toggle()    \n",
    "    \n",
    "client.on_message=on_message\n",
    "\n",
    "client.subscribe(\"button/0\")"
   ]
  },
  {
   "cell_type": "markdown",
   "metadata": {
    "deletable": true,
    "editable": true
   },
   "source": [
    "Publishing an event is somewhat simpler, we simply need to provide the topic and the message"
   ]
  },
  {
   "cell_type": "code",
   "execution_count": null,
   "metadata": {
    "collapsed": false,
    "deletable": true,
    "editable": true
   },
   "outputs": [],
   "source": [
    "(result, foo) = client.publish(\"button/0\", 7)\n",
    "result"
   ]
  },
  {
   "cell_type": "code",
   "execution_count": null,
   "metadata": {
    "collapsed": false,
    "deletable": true,
    "editable": true
   },
   "outputs": [],
   "source": [
    "# Continually read the current state of the buttons and publish some corresponding MQTT messages.\n",
    "# In addition, regularly call the 'loop()' function to process MQTT messages that\n",
    "# are subscribed to.  Buttons are read until button 3 is pressed.\n",
    "from pynq.board import Button\n",
    "\n",
    "btns = [Button(index) for index in range(4)]\n",
    "last = [btns[index].read() for index in range(3)]\n",
    "\n",
    "while (btns[3].read()==0):\n",
    "    current = [btns[index].read() for index in range(3)]\n",
    "    changed = [current[index] != last[index] for index in range(3)]\n",
    "    push = [client.publish('button/'+str(index),str(current[index])) if(changed[index]) else None for index in range(3)]\n",
    "    last = current\n",
    "    client.loop(timeout=.001)\n",
    "        \n",
    "print(current)\n",
    "push = [client.publish('button/'+str(index),\"offline\") for index in range(3)]\n"
   ]
  },
  {
   "cell_type": "markdown",
   "metadata": {
    "deletable": true,
    "editable": true
   },
   "source": [
    "Note that publishing events with MQTT can be quite fast, if we don't guarauntee that the events are received by the server."
   ]
  },
  {
   "cell_type": "code",
   "execution_count": null,
   "metadata": {
    "collapsed": false,
    "deletable": true,
    "editable": true
   },
   "outputs": [],
   "source": [
    "import timeit\n",
    "start_time = timeit.default_timer()\n",
    "# code you want to evaluate\n",
    "for index in range(10000):\n",
    "    client.publish(\"foo\",\"bar\")\n",
    "elapsed = timeit.default_timer() - start_time\n",
    "print(str(elapsed)+\" seconds.\")\n",
    "print(str(10000/elapsed)+\" messages/second.\")"
   ]
  },
  {
   "cell_type": "code",
   "execution_count": null,
   "metadata": {
    "collapsed": true,
    "deletable": true,
    "editable": true
   },
   "outputs": [],
   "source": []
  }
 ],
 "metadata": {
  "kernelspec": {
   "display_name": "Python 3",
   "language": "python",
   "name": "python3"
  },
  "language_info": {
   "codemirror_mode": {
    "name": "ipython",
    "version": 3
   },
   "file_extension": ".py",
   "mimetype": "text/x-python",
   "name": "python",
   "nbconvert_exporter": "python",
   "pygments_lexer": "ipython3",
   "version": "3.6.0"
  }
 },
 "nbformat": 4,
 "nbformat_minor": 1
}
