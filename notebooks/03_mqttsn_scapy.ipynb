{
 "cells": [
  {
   "cell_type": "markdown",
   "metadata": {},
   "source": [
    "# MQTTSN - using `scapy` Package\n",
    "\n",
    "MQTT and MQTT-SN are IP protocols used to manage devices in the Internet of Things.  These protocols implement a publish and subscribe communication protocol between *clients*.  The publish and subscribe communication is managed by *brokers*.  One of the key ideas of MQTT and MQTT-SN is that brokers are relatively robust and available, while clients are often transient (for instance they might often sleep to save power).  Typically a client will publish *events* to a broker.  Each event consists of a *topic* and a *message*. Typically the broker will relay each event to other clients who have subscribed to the same topic, although brokers may also communicate directly to relay events.  The main difference between MQTT and MQTT-SN is that MQTT is based on TCP, while MQTT-SN is based on UDP.  For more information, see http://mqtt.org/documentation.\n",
    "\n",
    "Previously, we've shown how to use an off the shelf client (`paho`) to publish MQTT events.\n",
    "Using the `scapy` package, we can also implement the protocol manually by constructing the correct packets.\n",
    "\n",
    "## 1. Start MQTT broker\n",
    "\n",
    "First we need to start a MQTT broker in order for all the clients to connect."
   ]
  },
  {
   "cell_type": "code",
   "execution_count": 1,
   "metadata": {
    "collapsed": true
   },
   "outputs": [],
   "source": [
    "from pynq_networking import Broker\n",
    "\n",
    "broker_mqtt = Broker(mqtt_port=1883, mqttsn_port=1884)"
   ]
  },
  {
   "cell_type": "markdown",
   "metadata": {},
   "source": [
    "When broker is open, users can connect to it; if there is already a broker\n",
    "running, the following method will close it before opening a new one.\n",
    "\n",
    "Users can also check the log file in `broker.log`."
   ]
  },
  {
   "cell_type": "code",
   "execution_count": 2,
   "metadata": {
    "collapsed": true
   },
   "outputs": [],
   "source": [
    "broker_mqtt.open()"
   ]
  },
  {
   "cell_type": "markdown",
   "metadata": {},
   "source": [
    "## 2. MQTTSN protocol with `scapy` package\n",
    "In the following case we are sending packets to the local host.\n",
    "Due to limitations of the loopback device, we need to force `scapy` to send raw packets."
   ]
  },
  {
   "cell_type": "code",
   "execution_count": 3,
   "metadata": {
    "collapsed": true
   },
   "outputs": [],
   "source": [
    "from scapy.all import *\n",
    "from pynq_networking.lib.mqttsn_sw import *\n",
    "\n",
    "conf.L3socket=L3RawSocket\n",
    "serverIP = broker_mqtt.ip_address\n",
    "serverPort = broker_mqtt.mqttsn_port"
   ]
  },
  {
   "cell_type": "markdown",
   "metadata": {},
   "source": [
    "The first step in communicating with the broker is to establish a connection.\n",
    "The response to this packet should be an `MQTTSN_CONNACK` packet.\n",
    "Note that we don't have to populate all the parameters of the packet, \n",
    "as `scapy` is able to fill in some appropriate defaults.\n",
    "It's possible that an ICMP error packet is returned if there is no broker \n",
    "operating at the given IP address.\n",
    "\n",
    "The following cell establishes a connection."
   ]
  },
  {
   "cell_type": "code",
   "execution_count": 4,
   "metadata": {},
   "outputs": [
    {
     "name": "stdout",
     "output_type": "stream",
     "text": [
      "Begin emission:\n",
      "Finished to send 1 packets.\n",
      "\n",
      "Received 20 packets, got 1 answers, remaining 0 packets\n"
     ]
    }
   ],
   "source": [
    "ack = sr1(IP(dst=serverIP)/UDP(sport=50000, dport=serverPort)/\n",
    "          MQTTSN()/MQTTSN_CONNECT(client=\"test\"))"
   ]
  },
  {
   "cell_type": "markdown",
   "metadata": {},
   "source": [
    "The next step is that we have to register a topic. In this case, the broker \n",
    "should remember that we opened a connection from this source port.\n",
    "In this case, we add some error handling to check the result packet.\n",
    "The expected response is an `MQTTSN_REGACK` packet, which contains a \n",
    "numeric topicID. MQTTSN often uses numeric topicIDs instead of strings to \n",
    "reduce the size of transmitted packets. Hence we need to store this topicID for later use.\n",
    "\n",
    "The following cell registers a new topic. Note the returned topicID."
   ]
  },
  {
   "cell_type": "code",
   "execution_count": 5,
   "metadata": {},
   "outputs": [
    {
     "name": "stdout",
     "output_type": "stream",
     "text": [
      "Begin emission:\n",
      "Finished to send 1 packets.\n",
      "\n",
      "Received 19 packets, got 1 answers, remaining 0 packets\n",
      "First Topic ID = 1\n"
     ]
    }
   ],
   "source": [
    "ack = sr1(IP(dst=serverIP)/UDP(sport=50000, dport=serverPort)/\n",
    "          MQTTSN()/MQTTSN_REGISTER(topic=\"first_topic\"))\n",
    "\n",
    "if(isinstance(ack[IP].payload, ICMP)):\n",
    "    print(\"Error response: \")\n",
    "    ack[IP].payload.show()\n",
    "else:\n",
    "    if(not isinstance(ack[MQTTSN].payload, MQTTSN_REGACK)):\n",
    "        print(\"Unknown response: \")\n",
    "        ack[MQTTSN].payload.show()\n",
    "    else:\n",
    "        topicID = ack[MQTTSN_REGACK].topicID\n",
    "\n",
    "print(\"First Topic ID = \" + str(topicID))"
   ]
  },
  {
   "cell_type": "markdown",
   "metadata": {},
   "source": [
    "Now that we have a topic ID, we can publish and subscribe different messages.\n",
    "\n",
    "The following cell publishes on the topic; `qos = 0` implies no response expected."
   ]
  },
  {
   "cell_type": "code",
   "execution_count": 6,
   "metadata": {},
   "outputs": [
    {
     "name": "stdout",
     "output_type": "stream",
     "text": [
      "\n",
      "Sent 1 packets.\n"
     ]
    }
   ],
   "source": [
    "send(IP(dst=serverIP)/UDP(sport=50000,dport=serverPort)/\n",
    "     MQTTSN()/MQTTSN_PUBLISH(topicID=topicID, message=\"foo\"))"
   ]
  },
  {
   "cell_type": "markdown",
   "metadata": {},
   "source": [
    "Now let's subscribe to a new topic (`second_topic`). Note the returned topicID \n",
    "(it should be a different ID)."
   ]
  },
  {
   "cell_type": "code",
   "execution_count": 7,
   "metadata": {},
   "outputs": [
    {
     "name": "stdout",
     "output_type": "stream",
     "text": [
      "Begin emission:\n",
      "Finished to send 1 packets.\n",
      "\n",
      "Received 23 packets, got 1 answers, remaining 0 packets\n",
      "Second Topic ID = 2\n"
     ]
    }
   ],
   "source": [
    "ack = sr1(IP(dst=serverIP)/UDP(sport=50000,dport=serverPort)/\n",
    "          MQTTSN()/MQTTSN_SUBSCRIBE(topic=\"second_topic\", messageID=1))\n",
    "\n",
    "if(isinstance(ack[IP].payload, ICMP)):\n",
    "    print(\"Error response: \")\n",
    "    ack[IP].payload.show()\n",
    "else:\n",
    "    if(not isinstance(ack[MQTTSN].payload, MQTTSN_SUBACK)):\n",
    "        print(\"Unknown response: \")\n",
    "        ack[MQTTSN].payload.show()\n",
    "    else:\n",
    "        topicID = ack[MQTTSN_SUBACK].topicID\n",
    "\n",
    "print(\"Second Topic ID = \" + str(topicID))"
   ]
  },
  {
   "cell_type": "markdown",
   "metadata": {},
   "source": [
    "Publish on the second topic (`second_topic`) again. This time we get a `PUBLISH` response \n",
    "because we're subscribed."
   ]
  },
  {
   "cell_type": "code",
   "execution_count": 8,
   "metadata": {},
   "outputs": [
    {
     "name": "stdout",
     "output_type": "stream",
     "text": [
      "Begin emission:\n",
      "Finished to send 1 packets.\n",
      "\n",
      "Received 24 packets, got 1 answers, remaining 0 packets\n"
     ]
    }
   ],
   "source": [
    "ack = sr1(IP(dst=serverIP)/UDP(sport=50000,dport=serverPort)/\n",
    "          MQTTSN()/MQTTSN_PUBLISH(qos=0, topicID=topicID, message=\"foo\"))"
   ]
  },
  {
   "cell_type": "markdown",
   "metadata": {},
   "source": [
    "Publish on `second_topic` again with `qos = 1` (guaranteed delivery).\n",
    "This time we get a `PUBACK` acknowledgment."
   ]
  },
  {
   "cell_type": "code",
   "execution_count": 9,
   "metadata": {},
   "outputs": [
    {
     "name": "stdout",
     "output_type": "stream",
     "text": [
      "Begin emission:\n",
      "Finished to send 1 packets.\n",
      "\n",
      "Received 37 packets, got 1 answers, remaining 0 packets\n"
     ]
    }
   ],
   "source": [
    "ack = sr1(IP(dst=serverIP)/UDP(sport=50000,dport=serverPort)/\n",
    "          MQTTSN()/MQTTSN_PUBLISH(qos=1, topicID=topicID, message=\"foo\"))"
   ]
  },
  {
   "cell_type": "markdown",
   "metadata": {
    "collapsed": true
   },
   "source": [
    "## 3. Wrapping up MQTTSN\n",
    "We can also wrap this up in a more abstract interface (like `paho.MQTT`).\n",
    "The key difference here is that we're generating MQTTSN traffic, rather than \n",
    "MQTT.\n",
    "\n",
    "The API is implemented in `mqttsn.py` for users to check."
   ]
  },
  {
   "cell_type": "code",
   "execution_count": 10,
   "metadata": {},
   "outputs": [
    {
     "name": "stdout",
     "output_type": "stream",
     "text": [
      "Publish Succeeded\n"
     ]
    }
   ],
   "source": [
    "with MQTT_Client(serverIP, serverPort, \"client-test\") as client:\n",
    "    topicID = client.register(\"temp\")\n",
    "    if client.publish(topicID, \"bar\", qos=0):\n",
    "        print(\"Publish Succeeded\")\n",
    "    else:\n",
    "        print(\"Publish Failed\")"
   ]
  },
  {
   "cell_type": "markdown",
   "metadata": {},
   "source": [
    "## 4. Continuously publishing events\n",
    "The following cell keeps publishing events based on new values read from \n",
    "sensors. A Pmod TMP2 and a Pmod OLED are required to run the following cell.\n",
    "\n",
    "On Pynq-Z1 board, please:\n",
    "1. Connect Pmod OLED to the PMODA interface, and \n",
    "2. Connect Pmod TMP2 to the PMODB interface."
   ]
  },
  {
   "cell_type": "code",
   "execution_count": 11,
   "metadata": {
    "collapsed": true
   },
   "outputs": [],
   "source": [
    "import timeit\n",
    "import matplotlib.pyplot as plt\n",
    "from pynq.overlays.base import BaseOverlay\n",
    "from pynq.lib.pmod import Pmod_OLED\n",
    "from pynq.lib.pmod import Pmod_TMP2\n",
    "\n",
    "overlay = BaseOverlay(\"base.bit\")\n",
    "my_oled = Pmod_OLED(overlay.PMODA)\n",
    "my_tmp = Pmod_TMP2(overlay.PMODB)"
   ]
  },
  {
   "cell_type": "markdown",
   "metadata": {},
   "source": [
    "Now let's read the temperature sensor values and keep publishing them."
   ]
  },
  {
   "cell_type": "code",
   "execution_count": 12,
   "metadata": {},
   "outputs": [
    {
     "data": {
      "image/png": "[encoded data removed]",
      "text/plain": [
       "<matplotlib.figure.Figure at 0x2d3ea7b0>"
      ]
     },
     "metadata": {},
     "output_type": "display_data"
    },
    {
     "name": "stdout",
     "output_type": "stream",
     "text": [
      "Average speed: 18.399892070064816 packets/second.\n"
     ]
    }
   ],
   "source": [
    "num_records = 100\n",
    "time_records = [0 for _ in range(num_records)]\n",
    "total_time = 0\n",
    "\n",
    "with MQTT_Client(serverIP, serverPort, \"client-temp\") as client:\n",
    "    temp_topicID = client.register(\"temp\")\n",
    "    for i in range(0, num_records):\n",
    "        temperature = my_tmp.read()\n",
    "        my_oled.clear()\n",
    "        timestr = str(timeit.default_timer())\n",
    "        tempstr = timestr[:9] + \" \" + str(temperature) + \" C\"\n",
    "        my_oled.write(tempstr)\n",
    "        \n",
    "        start_time = timeit.default_timer()\n",
    "        client.publish(temp_topicID, tempstr, qos=0)\n",
    "        elapsed = timeit.default_timer() - start_time\n",
    "        time_records[i] = elapsed\n",
    "        total_time += elapsed\n",
    "\n",
    "plt.bar(range(num_records), time_records, align='center')\n",
    "plt.title(\"Time used to send individual packet\")\n",
    "plt.xlabel(\"100 Packets\")\n",
    "plt.ylabel(\"Elapsed time (second)\")\n",
    "plt.show()\n",
    "print(\"Average speed: \" + str(num_records/total_time)+\" packets/second.\")"
   ]
  },
  {
   "cell_type": "markdown",
   "metadata": {},
   "source": [
    "Now let's change the `qos` value to check its impact on the performance. \n",
    "This is done by simply changing the following line:\n",
    "```python\n",
    "client.publish(temp_topicID, tempstr, qos=1)\n",
    "```"
   ]
  },
  {
   "cell_type": "code",
   "execution_count": 13,
   "metadata": {},
   "outputs": [
    {
     "data": {
      "image/png": "[encoded data removed]",
      "text/plain": [
       "<matplotlib.figure.Figure at 0x2d263ed0>"
      ]
     },
     "metadata": {},
     "output_type": "display_data"
    },
    {
     "name": "stdout",
     "output_type": "stream",
     "text": [
      "Average speed: 9.923285933375178 packets/second.\n"
     ]
    }
   ],
   "source": [
    "num_records = 100\n",
    "time_records = [0 for _ in range(num_records)]\n",
    "total_time = 0\n",
    "\n",
    "with MQTT_Client(serverIP, serverPort, \"client-temp\") as client:\n",
    "    temp_topicID = client.register(\"temp\")\n",
    "    for i in range(0, num_records):\n",
    "        temperature = my_tmp.read()\n",
    "        my_oled.clear()\n",
    "        timestr = str(timeit.default_timer())\n",
    "        tempstr = timestr[:9] + \" \" + str(temperature) + \" C\"\n",
    "        my_oled.write(tempstr)\n",
    "        \n",
    "        start_time = timeit.default_timer()\n",
    "        client.publish(temp_topicID, tempstr, qos=1)\n",
    "        elapsed = timeit.default_timer() - start_time\n",
    "        time_records[i] = elapsed\n",
    "        total_time += elapsed\n",
    "\n",
    "plt.bar(range(num_records), time_records, align='center')\n",
    "plt.title(\"Time used to send individual packet\")\n",
    "plt.xlabel(\"100 Packets\")\n",
    "plt.ylabel(\"Elapsed time (second)\")\n",
    "plt.show()\n",
    "print(\"Average speed: \" + str(num_records/total_time)+\" packets/second.\")"
   ]
  },
  {
   "cell_type": "markdown",
   "metadata": {},
   "source": [
    "## 5. Close the broker\n",
    "\n",
    "It is always a good practice to close the broker after use. Otherwise it keeps\n",
    "running in the background."
   ]
  },
  {
   "cell_type": "code",
   "execution_count": 14,
   "metadata": {
    "collapsed": true
   },
   "outputs": [],
   "source": [
    "broker_mqtt.close()"
   ]
  }
 ],
 "metadata": {
  "kernelspec": {
   "display_name": "Python 3",
   "language": "python",
   "name": "python3"
  },
  "language_info": {
   "codemirror_mode": {
    "name": "ipython",
    "version": 3
   },
   "file_extension": ".py",
   "mimetype": "text/x-python",
   "name": "python",
   "nbconvert_exporter": "python",
   "pygments_lexer": "ipython3",
   "version": "3.6.0"
  }
 },
 "nbformat": 4,
 "nbformat_minor": 2
}
