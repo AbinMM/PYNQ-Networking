{
 "cells": [
  {
   "cell_type": "markdown",
   "metadata": {},
   "source": [
    "# Implementing the MQTTSN protocol with Scapy.\n",
    "Previously, we've shown how to use an off the shelf client (Paho) to publish MQTT events.\n",
    "Using Scapy, we can also implement the protocol manually by constructing the correct packets."
   ]
  },
  {
   "cell_type": "code",
   "execution_count": 1,
   "metadata": {},
   "outputs": [
    {
     "name": "stderr",
     "output_type": "stream",
     "text": [
      "WARNING: No route found for IPv6 destination :: (no default route?). This affects only IPv6\n"
     ]
    }
   ],
   "source": [
    "from scapy.all import *\n",
    "exec(open(\"MQTTSN.py\").read())\n",
    "# In this case we are sending packets to the local host.\n",
    "# Due to limitations of the Loopback device, we need to force Scapy to send raw packets\n",
    "conf.L3socket=L3RawSocket\n",
    "\n",
    "serverIP = \"192.168.3.99\"\n",
    "serverPort = 1884"
   ]
  },
  {
   "cell_type": "markdown",
   "metadata": {},
   "source": [
    "The first step in communicating with the broker is to establish a connection.  The response to this packet should be an \"MQTTSN_CONNACK\" packet.  Note that we don't have to populate all the parameters of the packet, as Scapy is able to fill in some appropriate defaults.  It's possible that an ICMP error packet is returned if there is no broker operating at the given IP address."
   ]
  },
  {
   "cell_type": "code",
   "execution_count": 2,
   "metadata": {},
   "outputs": [
    {
     "name": "stdout",
     "output_type": "stream",
     "text": [
      "Begin emission:\n",
      "Finished to send 1 packets.\n",
      "\n",
      "Received 23 packets, got 1 answers, remaining 0 packets\n"
     ]
    },
    {
     "data": {
      "text/plain": [
       "<IP  version=4 ihl=5 tos=0x0 len=31 id=23946 flags=DF frag=0 ttl=64 proto=udp chksum=0x2427 src=192.168.3.99 dst=172.19.72.254 options=[] |<UDP  sport=1884 dport=50000 len=11 chksum=0xb939 |<MQTTSN  len=3 type=CONNACK |<MQTTSN_CONNACK  returnCode=0 |>>>>"
      ]
     },
     "execution_count": 2,
     "metadata": {},
     "output_type": "execute_result"
    }
   ],
   "source": [
    "# Establish a connection\n",
    "sr1(IP(dst=serverIP)/UDP(sport=50000,dport=serverPort)/MQTTSN()/MQTTSN_CONNECT(client=\"test\"))"
   ]
  },
  {
   "cell_type": "markdown",
   "metadata": {},
   "source": [
    "The next step is that we have to register a topic.  In this case, the broker should remember that we opened a connection from this source port.  In this case, we add some error handling to check the result packet.  The expected response is an \"MQTTSN_REGACK\" packet, which contains a numeric topicID.  MQTTSN often uses numeric topicIDs instead of strings to reduce the size of transmitted packets.  Hence we need to store this topicID for later use."
   ]
  },
  {
   "cell_type": "code",
   "execution_count": 3,
   "metadata": {},
   "outputs": [
    {
     "name": "stdout",
     "output_type": "stream",
     "text": [
      "Begin emission:\n",
      "Finished to send 1 packets.\n",
      "\n",
      "Received 18 packets, got 1 answers, remaining 0 packets\n",
      "topicID = 1\n"
     ]
    }
   ],
   "source": [
    "# Register a new topic.  Note the returned topicID\n",
    "ack = sr1(IP(dst=serverIP)/UDP(sport=50000,dport=serverPort)/MQTTSN()/MQTTSN_REGISTER(topic=\"foobar\"))\n",
    "if(isinstance(ack[IP].payload, ICMP)):\n",
    "    print(\"Error response:\")\n",
    "    ack[IP].payload.show()\n",
    "else:\n",
    "    if(not isinstance(ack[MQTTSN].payload, MQTTSN_REGACK)):\n",
    "        print(\"Unknown response:\")\n",
    "        ack[MQTTSN].payload.show()\n",
    "    else:\n",
    "        topicID = ack[MQTTSN_REGACK].topicID\n",
    "print(\"topicID = \" + str(topicID))"
   ]
  },
  {
   "cell_type": "markdown",
   "metadata": {},
   "source": [
    "Now that we have a topic ID, we can publish and subscribe different messages.  "
   ]
  },
  {
   "cell_type": "code",
   "execution_count": 4,
   "metadata": {},
   "outputs": [
    {
     "name": "stdout",
     "output_type": "stream",
     "text": [
      "\n",
      "Sent 1 packets.\n"
     ]
    }
   ],
   "source": [
    "# Publish on the topic, qos=0 implies no response expected.\n",
    "send(IP(dst=serverIP)/UDP(sport=50000,dport=serverPort)/MQTTSN()/MQTTSN_PUBLISH(topicID=topicID, message=\"foo\"))"
   ]
  },
  {
   "cell_type": "code",
   "execution_count": 5,
   "metadata": {},
   "outputs": [
    {
     "name": "stdout",
     "output_type": "stream",
     "text": [
      "Begin emission:\n",
      "Finished to send 1 packets.\n",
      "\n",
      "Received 22 packets, got 1 answers, remaining 0 packets\n"
     ]
    },
    {
     "data": {
      "text/plain": [
       "<IP  version=4 ihl=5 tos=0x0 len=36 id=25313 flags=DF frag=0 ttl=64 proto=udp chksum=0x1ecb src=192.168.3.99 dst=172.19.72.254 options=[] |<UDP  sport=1884 dport=50000 len=16 chksum=0xb93e |<MQTTSN  len=8 type=SUBACK |<MQTTSN_SUBACK  dup=0 qos=0 retain=0 will=0 clean=0 topicIDtype=0 topicID=2 messageID=1 returnCode=0 |>>>>"
      ]
     },
     "execution_count": 5,
     "metadata": {},
     "output_type": "execute_result"
    }
   ],
   "source": [
    "# Subscribe to a topic.  Note the returned topicID\n",
    "sr1(IP(dst=serverIP)/UDP(sport=50000,dport=serverPort)/MQTTSN()/MQTTSN_SUBSCRIBE(topic=\"foobar\", messageID=1))"
   ]
  },
  {
   "cell_type": "code",
   "execution_count": null,
   "metadata": {},
   "outputs": [],
   "source": [
    "# Publish on the topic again.  This time we get a PUBLISH response because we're subscribed.\n",
    "sr1(IP(dst=serverIP)/UDP(sport=50000,dport=serverPort)/MQTTSN()/MQTTSN_PUBLISH(qos=0,topicID=topicID, message=\"foo\"))"
   ]
  },
  {
   "cell_type": "code",
   "execution_count": null,
   "metadata": {},
   "outputs": [],
   "source": [
    "# Publish on the topic again with qos=1 (guaraunteed delivery).  This time we get a PUBACK acknowledgement.\n",
    "sr1(IP(dst=serverIP)/UDP(sport=50000,dport=serverPort)/MQTTSN()/MQTTSN_PUBLISH(qos=1,topicID=topicID, message=\"foo\"))"
   ]
  },
  {
   "cell_type": "markdown",
   "metadata": {},
   "source": [
    "We can also wrap this up in a more abstract interface (like Paho.MQTT).  The key difference here is that we're generating MQTTSN traffic, rather than MQTT."
   ]
  },
  {
   "cell_type": "code",
   "execution_count": 8,
   "metadata": {
    "scrolled": true
   },
   "outputs": [
    {
     "name": "stdout",
     "output_type": "stream",
     "text": [
      "Publish Succeeded\n"
     ]
    }
   ],
   "source": [
    "def valid_ack(ack,t):\n",
    "    if(isinstance(ack[IP].payload, ICMP)):\n",
    "        print(\"Error response:\")\n",
    "        ack[IP].payload.show()\n",
    "        return False\n",
    "    if(not isinstance(ack[MQTTSN].payload, t)):\n",
    "        print(\"Unexpected response should have been \"+ str(t)+\":\")\n",
    "        ack.payload.show()\n",
    "        return False\n",
    "    return True\n",
    "\n",
    "class MQTT_client:\n",
    "    def __init__(self, serverIP, serverPort, name, verbose=1):\n",
    "        self.serverIP = serverIP\n",
    "        self.serverPort = serverPort\n",
    "        self.client = name\n",
    "        self.verbose = 0\n",
    "    \n",
    "    def __enter__(self):\n",
    "        self.connect()\n",
    "        # Fixme: on failure throw exception?\n",
    "        return self\n",
    "    \n",
    "    def __exit__(self, type, value, traceback):\n",
    "        self.disconnect()\n",
    "        \n",
    "    def connect(self):\n",
    "        ### Establish a connection\n",
    "        connack = sr1(IP(dst=self.serverIP)/UDP(sport=50000,dport=self.serverPort)/MQTTSN()/MQTTSN_CONNECT(client=self.client), verbose=self.verbose)\n",
    "        return valid_ack(connack,MQTTSN_CONNACK)\n",
    "\n",
    "    def disconnect(self):\n",
    "        ### Destroy the connection\n",
    "        disconnack = send(IP(dst=serverIP)/UDP(sport=50000,dport=serverPort)/MQTTSN()/MQTTSN_DISCONNECT(), verbose=self.verbose)\n",
    "        # rsmb seems to respond with out the disconnect payload.\n",
    "        # return valid_ack(disconnack,MQTTSN_DISCONNECT)\n",
    "    \n",
    "    def register(self, topic):\n",
    "        ### Register the given topic.  Return the associated topicID\n",
    "        regack = sr1(IP(dst=serverIP)/UDP(sport=50000,dport=serverPort)/MQTTSN()/MQTTSN_REGISTER(topic=topic), verbose=self.verbose)\n",
    "        if not valid_ack(regack,MQTTSN_REGACK):\n",
    "            return None\n",
    "        return regack[MQTTSN_REGACK].topicID\n",
    "\n",
    "    def publish(self, topicID, message, qos=1):\n",
    "        ### Publish on the given topicID with the given message with qos=1 (guaraunteed delivery).  Return bool indicating success.\n",
    "        frame = IP(dst=serverIP)/UDP(sport=50000,dport=serverPort)/MQTTSN()/MQTTSN_PUBLISH(qos=qos, topicID=topicID, message=message)\n",
    "        if(qos == 0):\n",
    "            send(frame, verbose=self.verbose)\n",
    "        if(qos == 1):\n",
    "            puback_frame = sr1(frame, verbose=self.verbose)\n",
    "            if not valid_ack(puback_frame, MQTTSN_PUBACK):\n",
    "                return False\n",
    "        return True\n",
    "   \n",
    "\n",
    "with MQTT_client(serverIP, serverPort, \"client-test\") as client:\n",
    "    topicID = client.register(\"temp\")\n",
    "    if client.publish(topicID, \"bar\"):\n",
    "        print(\"Publish Succeeded\")\n",
    "    else:\n",
    "        print(\"Publish Failed\")\n"
   ]
  },
  {
   "cell_type": "markdown",
   "metadata": {},
   "source": [
    "Finally we can use the MQTT_client class to do something useful with the PYNQ board.  In this case, we read the local temperature sensor and write the result to the OLED screen.  In addition, the message is published to the MQTT server.   Is anyone listening, though?"
   ]
  },
  {
   "cell_type": "code",
   "execution_count": null,
   "metadata": {},
   "outputs": [],
   "source": [
    "from pynq import Overlay\n",
    "from pynq.lib.pmod import Pmod_OLED\n",
    "from pynq.lib.pmod import Pmod_TMP2\n",
    "from pynq.lib.pmod import PMODB\n",
    "from pynq.lib.pmod import PMODA\n",
    "import timeit\n",
    "\n",
    "ol = Overlay(\"base.bit\")\n",
    "ol.download()\n",
    "\n",
    "pmod_oled = Pmod_OLED(PMODA)\n",
    "mytmp = Pmod_TMP2(PMODB)\n",
    "print(mytmp.read())\n",
    "with MQTT_client(serverIP, serverPort, \"client-temp\") as client:\n",
    "    temp_topicID = client.register(\"temp\")\n",
    "    for i in range(0,10):\n",
    "        temperature = mytmp.read()\n",
    "        pmod_oled.clear()\n",
    "        timestr = str(timeit.default_timer())\n",
    "        tempStr = timestr[:9] + \" \" + str(temperature) + \" C\"\n",
    "        pmod_oled.write(tempStr)\n",
    "        client.publish(temp_topicID, tempStr)"
   ]
  },
  {
   "cell_type": "code",
   "execution_count": 9,
   "metadata": {},
   "outputs": [
    {
     "name": "stdout",
     "output_type": "stream",
     "text": [
      "4.380008551999708 seconds.\n",
      "9.132402260205145 messages/second.\n"
     ]
    }
   ],
   "source": [
    "#Test how fast we can publish events.\n",
    "from pynq import Overlay\n",
    "from pynq.lib.pmod import Pmod_OLED\n",
    "from pynq.lib.pmod import Pmod_TMP2\n",
    "from pynq.lib.pmod import PMODB\n",
    "from pynq.lib.pmod import PMODA\n",
    "import timeit\n",
    "\n",
    "ol = Overlay(\"base.bit\")\n",
    "ol.download()\n",
    "\n",
    "pmod_oled = Pmod_OLED(PMODA)\n",
    "mytmp = Pmod_TMP2(PMODB)\n",
    "\n",
    "count = 40\n",
    "#with sys_pipes():\n",
    "with MQTT_client(serverIP, serverPort, \"client-temp\") as client:\n",
    "    temp_topicID = client.register(\"temp\")\n",
    "    client.publish(topicID,\"test\")\n",
    "    start_time = timeit.default_timer()\n",
    "    temperature = mytmp.read()\n",
    "    tempStr = str(temperature)\n",
    "    for i in range(0,count):\n",
    "        #pmod_oled.clear()\n",
    "        #pmod_oled.write(tempStr)\n",
    "        client.publish(temp_topicID, tempStr, qos=1)\n",
    "        \n",
    "    elapsed = timeit.default_timer() - start_time\n",
    "    print(str(elapsed)+\" seconds.\")\n",
    "    print(str(count/elapsed)+\" messages/second.\")"
   ]
  },
  {
   "cell_type": "code",
   "execution_count": null,
   "metadata": {
    "collapsed": true
   },
   "outputs": [],
   "source": []
  }
 ],
 "metadata": {
  "kernelspec": {
   "display_name": "Python 3",
   "language": "python",
   "name": "python3"
  },
  "language_info": {
   "codemirror_mode": {
    "name": "ipython",
    "version": 3
   },
   "file_extension": ".py",
   "mimetype": "text/x-python",
   "name": "python",
   "nbconvert_exporter": "python",
   "pygments_lexer": "ipython3",
   "version": "3.6.0"
  }
 },
 "nbformat": 4,
 "nbformat_minor": 1
}
