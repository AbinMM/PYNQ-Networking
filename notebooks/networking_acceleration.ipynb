{
 "cells": [
  {
   "cell_type": "markdown",
   "metadata": {},
   "source": [
    "# Network IOP and Acceleration\n",
    "\n",
    "The Network IO Processor (IOP) enables raw access to the Ethernet interface from within Python.\n",
    "The usage is similar in many ways to sending and receiving Ethernet frames using raw sockets.\n",
    "\n",
    "The advantages of this access include:\n",
    "1. Packets can be sent with low-latency, bypassing the normal Linux kernel stack.\n",
    "2. Access to the network interface is memory-mapped, enabling network-connected accelerators\n",
    "   to be prototyped on the ARM cores and then migrated into the Programmable Logic (PL).\n",
    "\n",
    "In software, the code typically executes with about 10ms between publish events.\n",
    "When accelerated using the PL, the code executes about 120us between publish events.\n",
    "\n",
    "The following is a table of the memory mapped registers:\n",
    "\n",
    "|         AXILiteS           ||\n",
    "|:-----------|:----------------|\n",
    "| 0x00 | Control signals                                        |\n",
    "|      |  bit 0  - ap_start (Read/Write/COH)                    |\n",
    "|      |  bit 1  - ap_done (Read/COR)                           |\n",
    "|      |  bit 2  - ap_idle (Read)                               |\n",
    "|      |  bit 3  - ap_ready (Read)                              |\n",
    "|      |  bit 7  - auto_restart (Read/Write)                    |\n",
    "|      |  others - reserved                                     |\n",
    "| 0x04 | Global Interrupt Enable Register                       |\n",
    "|      |  bit 0  - Global Interrupt Enable (Read/Write)         |\n",
    "|      |  others - reserved                                     |\n",
    "| 0x08 | IP Interrupt Enable Register (Read/Write)              |\n",
    "|      |  bit 0  - Channel 0 (ap_done)                          |\n",
    "|      |  bit 1  - Channel 1 (ap_ready)                         |\n",
    "|      |  others - reserved                                     |\n",
    "| 0x0c | IP Interrupt Status Register (Read/TOW)                |\n",
    "|      |  bit 0  - Channel 0 (ap_done)                          |\n",
    "|      |  bit 1  - Channel 1 (ap_ready)                         |\n",
    "|      |  others - reserved                                     |\n",
    "| 0x10 | Data signal of b                                       |\n",
    "|      |  bit 0  - b[0] (Read/Write)                            |\n",
    "|      |  others - reserved                                     |\n",
    "| 0x14 | reserved                                               |\n",
    "| 0x18 | Data signal of macAddress_V                            |\n",
    "|      |  bit 31~0 - macAddress_V[31:0] (Read/Write)            |\n",
    "| 0x1c | Data signal of macAddress_V                            |\n",
    "|      |  bit 15~0 - macAddress_V[47:32] (Read/Write)           |\n",
    "|      |  others   - reserved                                   |\n",
    "| 0x20 | reserved                                               |\n",
    "| 0x24 | Data signal of ipAddress_V                             |\n",
    "|      |  bit 31~0 - ipAddress_V[31:0] (Read/Write)             |\n",
    "| 0x28 | reserved                                               |\n",
    "| 0x2c | Data signal of i                                       |\n",
    "|      |  bit 31~0 - i[31:0] (Read/Write)                       |\n",
    "| 0x30 | reserved                                               |\n",
    "| 0x34 | Data signal of destIP_V                                |\n",
    "|      |  bit 31~0 - destIP_V[31:0] (Read/Write)                |\n",
    "| 0x38 | reserved                                               |\n",
    "| 0x3c | Data signal of destPort                                |\n",
    "|      |  bit 31~0 - destPort[31:0] (Read/Write)                |\n",
    "| 0x40 | reserved                                               |\n",
    "| 0x44 | Data signal of topicID_V                               |\n",
    "|      |  bit 15~0 - topicID_V[15:0] (Read/Write)               |\n",
    "|      |  others   - reserved                                   |\n",
    "| 0x48 | reserved                                               |\n",
    "| 0x4c | Data signal of qos                                     |\n",
    "|      |  bit 31~0 - qos[31:0] (Read/Write)                     |\n",
    "| 0x50 | reserved                                               |\n",
    "| 0x54 | Data signal of message                                 |\n",
    "|      |  bit 31~0 - message[31:0] (Read/Write)                 |\n",
    "| 0x58 | reserved                                               |\n",
    "| 0x5c | Data signal of validMessage                            |\n",
    "|      |  bit 0  - validMessage[0] (Read/Write)                 |\n",
    "|      |  others - reserved                                     |\n",
    "| 0x60 | reserved                                               |\n",
    "| 0x64 | Data signal of network IOP offset                       |\n",
    "|      |  bit 31~0 - network IOP offset[31:0] (Read/Write)       |\n",
    "| 0x68 | reserved                                               |\n",
    "| 0x6c | Data signal of count                                   |\n",
    "|      |  bit 31~0 - count[31:0] (Read/Write)                   |\n",
    "| 0x70 | reserved                                               |\n",
    "| 0x74 | Data signal of size                                    |\n",
    "|      |  bit 31~0 - size[31:0] (Read/Write)                    |\n",
    "| 0x78 | reserved                                               |\n",
    "| 0x7c | Data signal of reset                                   |\n",
    "|      |  bit 0  - reset[0] (Read/Write)                        |\n",
    "|      |  others - reserved                                     |\n",
    "| 0x80 | reserved                                               |\n",
    "| 0x84 | Data signal of p_verbose                               |\n",
    "|      |  bit 0  - p_verbose[0] (Read/Write)                    |\n",
    "|      |  others - reserved                                     |\n",
    "| 0x88 | reserved                                               |\n",
    "| 0x8c | Data signal of events_completed                        |\n",
    "|      |  bit 31~0 - events_completed[31:0] (Read)              |\n",
    "| 0x90 | Control signal of events_completed                     |\n",
    "|      |  bit 0  - events_completed_ap_vld (Read/COR)           |\n",
    "|      |  others - reserved                                     |\n",
    "| 0x94 | Data signal of publishes_sent                          |\n",
    "|      |  bit 31~0 - publishes_sent[31:0] (Read)                |\n",
    "| 0x98 | Control signal of publishes_sent                       |\n",
    "|      |  bit 0  - publishes_sent_ap_vld (Read/COR)             |\n",
    "|      |  others - reserved                                     |\n",
    "| 0x9c | Data signal of packets_received                        |\n",
    "|      |  bit 31~0 - packets_received[31:0] (Read)              |\n",
    "| 0xa0 | Control signal of packets_received                     |\n",
    "|      |  bit 0  - packets_received_ap_vld (Read/COR)           |\n",
    "|      |  others - reserved                                     |\n",
    "| 0xa4 | Data signal of packets_sent                            |\n",
    "|      |  bit 31~0 - packets_sent[31:0] (Read)                  |\n",
    "| 0xa8 | Control signal of packets_sent                         |\n",
    "|      |  bit 0  - packets_sent_ap_vld (Read/COR)               |\n",
    "|      |  others - reserved                                     |\n",
    "\n",
    "\n",
    "*SC = Self Clear, COR = Clear on Read, TOW = Toggle on Write, COH = Clear on Handshake*\n",
    "\n",
    "## 1. Downloading overlay\n",
    "Now let's download the overlay and do necessary configurations."
   ]
  },
  {
   "cell_type": "code",
   "execution_count": 1,
   "metadata": {
    "collapsed": true
   },
   "outputs": [],
   "source": [
    "from pynq_networking import MqttsnOverlay\n",
    "\n",
    "mqttsn_bit = \"/opt/python3.6/lib/python3.6/site-packages/\" + \\\n",
    "             \"pynq_networking/overlays/mqttsn/mqttsn.bit\"\n",
    "overlay = MqttsnOverlay(mqttsn_bit)\n",
    "overlay.download()"
   ]
  },
  {
   "cell_type": "code",
   "execution_count": 2,
   "metadata": {
    "collapsed": true,
    "scrolled": true
   },
   "outputs": [],
   "source": [
    "import timeit\n",
    "import logging\n",
    "logging.getLogger(\"scapy.runtime\").setLevel(logging.ERROR)\n",
    "from scapy.all import *\n",
    "from wurlitzer import sys_pipes\n",
    "from pynq_networking.lib.network_iop import NetworkIOP\n",
    "from pynq_networking.lib.slurper import PacketSlurper\n",
    "from pynq_networking.lib.pynqsocket import L2PynqSocket\n",
    "\n",
    "conf.L2PynqSocket = L2PynqSocket"
   ]
  },
  {
   "cell_type": "markdown",
   "metadata": {},
   "source": [
    "## 2. Read the temperature sensor value\n",
    "Now let's read the temperature values from Pmod TMP2. In this example,\n",
    "Pmod TMP2 has to be plugged into the PMODB interface on PYNQ-Z1."
   ]
  },
  {
   "cell_type": "code",
   "execution_count": 3,
   "metadata": {
    "scrolled": true
   },
   "outputs": [
    {
     "name": "stdout",
     "output_type": "stream",
     "text": [
      "Reading TMP2 from MicroBlaze: 28.6\n",
      "Reading TMP2 from SDSoC: 28.5625\n"
     ]
    }
   ],
   "source": [
    "from pynq.lib.pmod import Pmod_TMP2\n",
    "from pynq_networking.lib.accelerator import Accelerator\n",
    "\n",
    "pmod_tmp2 = Pmod_TMP2(overlay.PMODB)\n",
    "pkt_accel = Accelerator()\n",
    "\n",
    "print(\"Reading TMP2 from MicroBlaze: {}\".format(pmod_tmp2.read()))\n",
    "\n",
    "with sys_pipes():\n",
    "    print(\"Reading TMP2 from SDSoC: {}\".format(\n",
    "        pkt_accel.read_sensor(pmod_tmp2.microblaze)))"
   ]
  },
  {
   "cell_type": "markdown",
   "metadata": {},
   "source": [
    "Next we can test how fast we can read the temperature sensor."
   ]
  },
  {
   "cell_type": "code",
   "execution_count": 14,
   "metadata": {},
   "outputs": [
    {
     "name": "stdout",
     "output_type": "stream",
     "text": [
      "Sensor performs 1229.2402843072214 reads/second.\n",
      "Temperature is 30.4 degrees.\n"
     ]
    }
   ],
   "source": [
    "count = 1000\n",
    "\n",
    "start_time = timeit.default_timer()\n",
    "for _ in range(count):\n",
    "    x = pmod_tmp2.read()\n",
    "elapsed = timeit.default_timer() - start_time\n",
    "\n",
    "print(\"Sensor performs \" + str(count/elapsed)+\" reads/second.\")\n",
    "print(\"Temperature is \" + str(x) + \" degrees.\")"
   ]
  },
  {
   "cell_type": "markdown",
   "metadata": {},
   "source": [
    "## 3. Bring up interfaces and modules\n",
    "We can bring up a network interface for testing. \n",
    "For hardware acceleration, we need to inject the Linux kernel driver.\n",
    "\n",
    "The Python class `LinkManager` is a wrapper for the following commands:\n",
    "```csh\n",
    "chmod 777 ./kernel_module/*.sh\n",
    "ifconfig br0:1 192.168.3.99\n",
    "ifconfig br0:0 192.168.1.99\n",
    "./kernel_module/link_up.sh\n",
    "```"
   ]
  },
  {
   "cell_type": "code",
   "execution_count": 4,
   "metadata": {
    "collapsed": true
   },
   "outputs": [],
   "source": [
    "from pynq_networking import LinkManager\n",
    "\n",
    "if_manager = LinkManager()\n",
    "if_manager.if_up(\"br0:1\", \"192.168.3.99\")\n",
    "if_manager.if_up(\"br0:0\", \"192.168.1.99\")\n",
    "if_manager.kernel_up()"
   ]
  },
  {
   "cell_type": "markdown",
   "metadata": {},
   "source": [
    "The kernel module only needs to be brought up 1 time after the \n",
    "board has been booted."
   ]
  },
  {
   "cell_type": "markdown",
   "metadata": {},
   "source": [
    "## 4. Setup broker\n",
    "We will use the IP associated with `br0:1` to set up the broker.\n",
    "For the network IOP, the packets have to be flushed first."
   ]
  },
  {
   "cell_type": "code",
   "execution_count": 5,
   "metadata": {
    "collapsed": true
   },
   "outputs": [],
   "source": [
    "from pynq_networking import Broker\n",
    "from pynq_networking import get_ip_string, get_mac_string\n",
    "from pynq_networking.lib.network_iop import NetworkIOP\n",
    "from pynq_networking.lib.mqttsn_hw import MQTT_Client_PL\n",
    "\n",
    "serverIP = \"192.168.3.99\"\n",
    "serverPort = 1884\n",
    "\n",
    "broker_mqtt = Broker(ip_address=serverIP, mqttsn_port=serverPort)\n",
    "broker_mqtt.open()"
   ]
  },
  {
   "cell_type": "code",
   "execution_count": 6,
   "metadata": {},
   "outputs": [
    {
     "name": "stdout",
     "output_type": "stream",
     "text": [
      "162 packets flushed\n"
     ]
    }
   ],
   "source": [
    "mynet = NetworkIOP()\n",
    "mytmp = pmod_tmp2.microblaze\n",
    "\n",
    "conf.L2PynqSocket().flush()"
   ]
  },
  {
   "cell_type": "markdown",
   "metadata": {},
   "source": [
    "## 5. Publish events with accelerator\n",
    "We will now use the hardware accelerator to publish events. \n",
    "The Python API is shown below:\n",
    "```Python\n",
    "    def publish_mmio(self, size, count, pl_mac_address, pl_ip_address,\n",
    "                     server_ip_address, server_port_number,\n",
    "                     topic_id, qos, verbose, net_iop, sensor_iop):\n",
    "        \"\"\"Publish data from the given temperature sensor to an MQTTSN server.\n",
    "\n",
    "        This method will use the MMIO to control the accelerator.\n",
    "\n",
    "        Parameters\n",
    "        ----------\n",
    "        size : int\n",
    "            The size of frames to generate.\n",
    "        count : int\n",
    "            The number of publish events to complete.\n",
    "        pl_mac_address : int/str\n",
    "            The MAC Address of the PL accelerator (not the host MAC address).\n",
    "        pl_ip_address : int/str\n",
    "            The IP Address of the PL accelerator (not the host IP address).\n",
    "        server_ip_address : int/str\n",
    "            The IP Address of the MQTTSN server.\n",
    "        server_port_number : int\n",
    "            The port number of the MQTTSN server.\n",
    "        topic_id : int\n",
    "            The topic ID to publish on.\n",
    "        qos : int\n",
    "            The MQTTSN qos to use (0 means response is not required).\n",
    "        verbose : int\n",
    "            A non-zero value will get verbose debugging information.\n",
    "        net_iop : NetworkIOP\n",
    "            The network IOP object.\n",
    "        sensor_iop : Pmod_TMP2\n",
    "            The temperature sensor object.\n",
    "\n",
    "        \"\"\"\n",
    "```\n",
    "\n",
    "\n",
    "For example, we can call:\n",
    "```python\n",
    "from broker_client.accelerator import Accelerator\n",
    "\n",
    "pkt_accel = Accelerator()\n",
    "pkt_accel.publish_mmio(100, 5, local_mac, local_ip, \n",
    "                       serverIP, serverPort, \n",
    "                       1, 0, 1, mynet, mytmp)\n",
    "```\n",
    "\n",
    "We can keep publishing events and see how fast we can publish them.\n",
    "The following cell is using a thin wrapper for the MQTT client. Internally,\n",
    "it calls the `Accelerator()` class and uses `publish_mmio()` method.\n",
    "\n",
    "Users can also check the frame content using:\n",
    "\n",
    "```python\n",
    "frame = conf.L2PynqSocket().recv()\n",
    "print(frame)\n",
    "```"
   ]
  },
  {
   "cell_type": "code",
   "execution_count": 7,
   "metadata": {},
   "outputs": [
    {
     "name": "stdout",
     "output_type": "stream",
     "text": [
      "165 packets flushed\n",
      "MQTTSN: Ether / IP / UDP 192.168.3.99:1884 > 192.168.1.104:50000 / MQTTSN / MQTTSN_CONNACK / Padding\n",
      "MQTTSN: Ether / IP / UDP 192.168.3.99:1884 > 192.168.1.104:50000 / MQTTSN / MQTTSN_REGACK / Padding\n",
      "MQTTSN: Ether / IP / UDP 192.168.3.99:1884 > 192.168.1.104:50000 / MQTTSN / MQTTSN_PUBACK / Padding\n",
      "0 packets flushed\n",
      "calls 998\n",
      "events_completed: 500\n",
      "PublishesSent: 500\n",
      "PacketsReceived: 1\n",
      "PacketsSent: 500\n",
      "HW publish speed: 3653.6809948123364 packets/second.\n"
     ]
    }
   ],
   "source": [
    "conf.L2PynqSocket().flush()\n",
    "count = 500\n",
    "with sys_pipes():\n",
    "    with MQTT_Client_PL(serverIP, serverPort, \"client-hw\") as client:\n",
    "        topicID = client.register(\"temperature\")\n",
    "        client.publish_sw(topicID, \"27.0\")\n",
    "        conf.L2PynqSocket().flush()\n",
    "\n",
    "        start_time = timeit.default_timer()\n",
    "        client.publish_hw(mynet, mytmp, topicID, 0, range(count))\n",
    "        elapsed = timeit.default_timer() - start_time\n",
    "\n",
    "print(\"HW publish speed: \" + str(count/elapsed)+\" packets/second.\")"
   ]
  },
  {
   "cell_type": "code",
   "execution_count": 8,
   "metadata": {},
   "outputs": [
    {
     "name": "stdout",
     "output_type": "stream",
     "text": [
      "61 packets flushed\n",
      "MQTTSN: Ether / IP / UDP 192.168.3.99:1884 > 192.168.1.104:50000 / MQTTSN / MQTTSN_CONNACK / Padding\n",
      "MQTTSN: Ether / IP / UDP 192.168.3.99:1884 > 192.168.1.104:50000 / MQTTSN / MQTTSN_REGACK / Padding\n",
      "MQTTSN: Ether / IP / UDP 192.168.3.99:1884 > 192.168.1.104:50000 / MQTTSN / MQTTSN_PUBACK / Padding\n",
      "0 packets flushed\n",
      "SW publish speed: 46.993605246764986 packets/second.\n"
     ]
    }
   ],
   "source": [
    "conf.L2PynqSocket().flush()\n",
    "count = 500\n",
    "with sys_pipes():\n",
    "    with MQTT_Client_PL(serverIP, serverPort, \"client-sw\") as client:\n",
    "        temp_topicID = client.register(\"temperature\")\n",
    "        client.publish_sw(topicID, \"27.0\")\n",
    "        conf.L2PynqSocket().flush()\n",
    "\n",
    "        start_time = timeit.default_timer()  \n",
    "        temperature = str(pmod_tmp2.read())\n",
    "        for i in range(count):\n",
    "            client.publish_sw(temp_topicID, temperature, qos=0)\n",
    "        elapsed = timeit.default_timer() - start_time\n",
    "\n",
    "print(\"SW publish speed: \" + str(count/elapsed)+\" packets/second.\")"
   ]
  },
  {
   "cell_type": "markdown",
   "metadata": {},
   "source": [
    "## 7. Cleanup\n",
    "We can remove the kernel module and close the broker in the end."
   ]
  },
  {
   "cell_type": "code",
   "execution_count": 15,
   "metadata": {
    "collapsed": true
   },
   "outputs": [],
   "source": [
    "if_manager.kernel_down()\n",
    "if_manager.if_down('br0:0')\n",
    "if_manager.if_down('br0:1')\n",
    "broker_mqtt.close()"
   ]
  }
 ],
 "metadata": {
  "kernelspec": {
   "display_name": "Python 3",
   "language": "python",
   "name": "python3"
  },
  "language_info": {
   "codemirror_mode": {
    "name": "ipython",
    "version": 3
   },
   "file_extension": ".py",
   "mimetype": "text/x-python",
   "name": "python",
   "nbconvert_exporter": "python",
   "pygments_lexer": "ipython3",
   "version": "3.6.0"
  }
 },
 "nbformat": 4,
 "nbformat_minor": 1
}
